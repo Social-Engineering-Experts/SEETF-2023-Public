{
 "cells": [
  {
   "cell_type": "code",
   "execution_count": 1,
   "id": "fe026600",
   "metadata": {},
   "outputs": [],
   "source": [
    "import sys\n",
    "sys.path.append(\"../dist\")\n",
    "\n",
    "from element import *\n",
    "from aes import *\n",
    "\n",
    "pt = bytes.fromhex('f085c01fefa2af35326467f6facfcf50')\n",
    "ct = bytes.fromhex('a016124ed2b337a845ca03be0dd014cd')"
   ]
  },
  {
   "cell_type": "markdown",
   "id": "7553e483",
   "metadata": {},
   "source": [
    "# What is `Element`?\n",
    "\n",
    "- A quick verification shows that `Element` implements a group $G$ of size $252$\n",
    "- A [quick search](https://groupprops.subwiki.org/wiki/Groups_of_order_252) shows that $G$ is soluble\n",
    "- Compute the derived subgroup $G'$ to be generated from $(1,0,0,0)$, $(0,1,0,0)$ and $(0,0,1,2)$\n",
    "- Compute $G''$ to be $\\{1\\}$, so $G'$ is abelian (and $G \\cong C_3 \\times C_{21}$)\n",
    "- Compute $G \\backslash G'$ to notice that each coset in $G/G' \\cong C_4$ and a unique representative in $Q = \\langle(0,0,1,1)\\rangle$ \n",
    "    - Notice that $G' \\triangleleft G$, $Q\\cap G'$ and $G'Q = G$. So $G = G' \\ltimes Q  \\cong (C_3 \\times C_{21}) \\ltimes C_4$"
   ]
  },
  {
   "cell_type": "code",
   "execution_count": 2,
   "id": "741bda79",
   "metadata": {},
   "outputs": [],
   "source": [
    "from itertools import product\n",
    "\n",
    "def to_tuple(x):\n",
    "    a, x = x % 3, x // 3\n",
    "    b, x = x % 3, x // 3\n",
    "    c, x = x % 7, x // 7\n",
    "    d = x\n",
    "    return (a,b,c,d)\n",
    "\n",
    "def from_tuple(t):\n",
    "    a,b,c,d = t\n",
    "    return ((d*7 + c)*3 + b)*3 + a"
   ]
  },
  {
   "cell_type": "code",
   "execution_count": 3,
   "id": "51d747ab",
   "metadata": {},
   "outputs": [],
   "source": [
    "# Maps an element with its inverse\n",
    "invmap = {Element(i): next(\n",
    "        Element(j) \n",
    "        for j in range(Element.sz) \n",
    "        if (Element(j) + Element(i)).to_byte() == 0\n",
    "    ) for i in range(Element.sz)}\n",
    "\n",
    "def commutators(tuples):\n",
    "    \"\"\"\n",
    "    Compute all commutators, an approximation for derived subgroup\n",
    "    \"\"\"\n",
    "    alle = [Element(from_tuple(x)) for x in tuples]\n",
    "    com = [x+y+invmap[x]+invmap[y] for x in alle for y in alle]\n",
    "    return set([to_tuple(c.to_byte()) for c in com])\n",
    "\n",
    "def is_normal(tuples):\n",
    "    \"\"\"\n",
    "    Check if group is normal\n",
    "    \"\"\"\n",
    "    A = [Element(i) for i in range(252)]\n",
    "    B = [Element(from_tuple(x)) for x in tuples]\n",
    "    com = []\n",
    "    for x in A:\n",
    "        for y in B:\n",
    "            if (x+y+invmap[x]) not in B:\n",
    "                return False\n",
    "    return True\n",
    "\n",
    "# G' turns out to be (i,j,k,k*2)\n",
    "G_derived = commutators([(i,j,k,l)\n",
    "    for i,j,k,l in product(*map(range, [3,3,7,4]))\n",
    "])\n",
    "\n",
    "# G'' turns out to be {1}\n",
    "assert {(0,0,0,0)} == commutators(G_derived)"
   ]
  },
  {
   "cell_type": "code",
   "execution_count": 4,
   "id": "214156c8",
   "metadata": {},
   "outputs": [],
   "source": [
    "# Get representatives of each coset G/G'\n",
    "rep_C4 = [Element(from_tuple((0,0,1,1)))*i for i in range(4)]\n",
    "C4_to_quo = {\n",
    "    # Maps C4 -> G/G'\n",
    "    i: set([q + Element(from_tuple(g)) for g in G_derived]) for i,q in enumerate(rep_C4)\n",
    "}\n",
    "G_to_C4 = {\n",
    "    # Maps G -> G/G' -> C4\n",
    "    g: i for i,quo in C4_to_quo.items() for g in quo\n",
    "}\n",
    "# Check that our representatives covered all cosets\n",
    "assert len(set(sum(map(list, C4_to_quo.values()), []))) == Element.sz"
   ]
  },
  {
   "cell_type": "markdown",
   "id": "4ea3a886",
   "metadata": {},
   "source": [
    "# Solution\n",
    "\n",
    "- The AES implementation has no substitution operation, so it becomes trivial if the group operation is abelian\n",
    "- But $G$ isn't abelian\n",
    "\n",
    "## Strategy\n",
    "- Solve for `key`=$k$ in $G/G' \\cong C_4$ which is abelian (gaussian elimination). Now we know which quotient each byte of $k$ is in."
   ]
  },
  {
   "cell_type": "code",
   "execution_count": 5,
   "id": "3bf2ffe4",
   "metadata": {},
   "outputs": [],
   "source": [
    "# We modify the AES implementation for your purpose\n",
    "\n",
    "# RCON for C4\n",
    "RCON = [*map(Element, (\n",
    "    0x00, 0x01, 0x02, 0x04, 0x08, 0x10, 0x20, 0x40,\n",
    "    0x80, 0x1B, 0x36, 0x6C, 0xD8, 0xAB, 0x4D, 0x9A,\n",
    "    0x2F, 0x5E, 0xBC, 0x63, 0xC6, 0x97, 0x35, 0x6A,\n",
    "    0xD4, 0xB3, 0x7D, 0xFA, 0xEF, 0xC5, 0x91, 0x39,\n",
    "))]\n",
    "N_ROUNDS = 6\n",
    "N_BYTES = 16\n",
    "\n",
    "def shift_rows(s):\n",
    "    s[0][1], s[1][1], s[2][1], s[3][1] = s[1][1], s[2][1], s[3][1], s[0][1]\n",
    "    s[0][2], s[1][2], s[2][2], s[3][2] = s[2][2], s[3][2], s[0][2], s[1][2]\n",
    "    s[0][3], s[1][3], s[2][3], s[3][3] = s[3][3], s[0][3], s[1][3], s[2][3]\n",
    "    \n",
    "def add_round_key(s, k):\n",
    "    for i in range(4):\n",
    "        for j in range(4):\n",
    "            s[i][j] += k[i][j]\n",
    "            \n",
    "def mix_single_column(a):\n",
    "    b1, b2, b3, b4 = (\n",
    "        2*a[0] + 3*a[1] + 1*a[2] + 1*a[3],\n",
    "        1*a[0] + 2*a[1] + 3*a[2] + 1*a[3],\n",
    "        1*a[0] + 1*a[1] + 2*a[2] + 3*a[3],\n",
    "        3*a[0] + 1*a[1] + 1*a[2] + 2*a[3]\n",
    "    )\n",
    "    a[0], a[1], a[2], a[3] = b1, b2, b3, b4\n",
    "    \n",
    "def mix_columns(s):\n",
    "    for i in range(4):\n",
    "        mix_single_column(s[i])\n",
    "        \n",
    "def xor_bytes(a, b):\n",
    "    return [i+j for i, j in zip(a, b)]\n",
    "\n",
    "def bytes2matrix(text):\n",
    "    return [text[i:i+4] for i in range(0, len(text), 4)]\n",
    "\n",
    "def matrix2bytes(matrix):\n",
    "    return sum(matrix, [])\n",
    "        \n",
    "def expand_key(map_to_F, master_key):\n",
    "    \n",
    "    key_columns = bytes2matrix(master_key)\n",
    "    iteration_size = len(master_key) // 4\n",
    "    rcon = [map_to_F(i) for i in RCON]\n",
    "\n",
    "    i = 1\n",
    "    while len(key_columns) < (N_ROUNDS + 1) * 4:\n",
    "        # Copy previous word.\n",
    "        word = list(key_columns[-1])\n",
    "\n",
    "        # Perform schedule_core once every \"row\".\n",
    "        if len(key_columns) % iteration_size == 0:\n",
    "            # Circular shift.\n",
    "            word.append(word.pop(0))\n",
    "            # XOR with first byte of R-CON, since the others bytes of R-CON are 0.\n",
    "            word[0] += rcon[i]\n",
    "            i += 1\n",
    "\n",
    "        # XOR with equivalent word from previous iteration.\n",
    "        word = xor_bytes(word, key_columns[-iteration_size])\n",
    "        key_columns.append(word)\n",
    "\n",
    "    # Group key words in 4x4 byte matrices.\n",
    "    return [key_columns[4*i : 4*(i+1)] for i in range(len(key_columns) // 4)]\n",
    "\n",
    "def encrypt_block(map_to_F, key, plaintext):\n",
    "\n",
    "    assert len(plaintext) == N_BYTES\n",
    "\n",
    "    plain_state = bytes2matrix(plaintext)\n",
    "    round_keys = expand_key(map_to_F, key)\n",
    "    \n",
    "    add_round_key(plain_state, round_keys[0])\n",
    "\n",
    "    for i in range(1, N_ROUNDS):\n",
    "        shift_rows(plain_state)\n",
    "        mix_columns(plain_state)\n",
    "        add_round_key(plain_state, round_keys[i])\n",
    "\n",
    "    shift_rows(plain_state)\n",
    "    add_round_key(plain_state, round_keys[-1])\n",
    "\n",
    "    return matrix2bytes(plain_state)"
   ]
  },
  {
   "cell_type": "code",
   "execution_count": 6,
   "id": "3d82681d",
   "metadata": {},
   "outputs": [],
   "source": [
    "# First solve in G/G' ~ C4\n",
    "\n",
    "C4 = Zmod(4)\n",
    "element_to_C4 = lambda b: C4(G_to_C4[b])\n",
    "bytes_to_C4 = lambda bs: [element_to_C4(Element(b)) for b in bs]\n",
    "\n",
    "# Map pt-ct pair to C4\n",
    "pt_c4,ct_c4 = [*map(bytes_to_C4, (pt, ct))]\n",
    "# Create symbolic key\n",
    "ksym_c4 = PolynomialRing(C4, [\"k%d\"%d for d in range(16)]).gens()\n",
    "# Symbolically compute ct\n",
    "ctsym_c4 = encrypt_block(element_to_C4, ksym_c4, pt_c4)\n",
    "\n",
    "# Solve for key in quotient C4\n",
    "mat = matrix(C4, [\n",
    "    [r[k] for k in ksym_c4] for r in ctsym_c4\n",
    "])\n",
    "c1mod = vector(C4, [c-ctsym_c4[i].constant_coefficient() for i,c in enumerate(ct_c4)])\n",
    "k_c4 = [rep_C4[i] for i in mat.solve_right(c1mod)]"
   ]
  },
  {
   "cell_type": "code",
   "execution_count": 7,
   "id": "fa9c84d4",
   "metadata": {},
   "outputs": [],
   "source": [
    "# Compute kernel\n",
    "F = ZZ^16\n",
    "M = F/(4*F)\n",
    "A = mat.T\n",
    "phi = M.hom([M(a) for a in A])\n",
    "\n",
    "# Assert that this is the only solution\n",
    "assert len([M(b) for b in phi.kernel().gens()]) == 0"
   ]
  },
  {
   "cell_type": "markdown",
   "id": "8a3057d2",
   "metadata": {},
   "source": [
    "## Strategy\n",
    "\n",
    "- Each byte of `ct` can be expressed as a linear sum of bytes of $k$ and constants\n",
    "    - E.g., $\\mathrm{ct}[0] = c_0 = k_0 + 192 + k_2 + \\ldots$\n",
    "    - Note this sum is very long because $G$ is non-abelian and we can't just group the terms together\n",
    "- Each element of $g \\in G$ can be expressed as $g = g' \\overline{g}$ where $g' \\in G'$ and $\\overline{g} \\in Q$\n",
    "- We express each byte of `ct` as $c'\\overline{c}$. $c' \\in G'$, with $\\overline{c} \\in Q$ which is known. Since $G'$ is abelian, we can simplify and gaussian eliminate over $G'$\n",
    "    - E.g., Switching to multiplicative notation, suppose $c_0 = abcd\\ldots$. Then denoting $xyx^{-1} = y^x$, we have:\n",
    "\n",
    "$$\n",
    "\\begin{align}\n",
    "c_0 \n",
    "&= a'\\overline{a}\\quad b'\\overline{b}\\quad c'\\overline{c}\\quad d'\\overline{d} \\quad \\ldots \\\\\n",
    "&= a' (b'^{\\overline{a}}) \\overline{a}\\overline{b} \\quad c'\\overline{c}\\quad d'\\overline{d} \\quad \\ldots \\\\\n",
    "&= a' (b'^{\\overline{a}})  (c'^{\\overline{a}\\overline{b}}) \\overline{a}\\overline{b}\\overline{c}\\quad d'\\overline{d} \\quad \\ldots \\\\\n",
    "&= a' (b'^{\\overline{a}})  (c'^{\\overline{a}\\overline{b}}) (d'^{\\overline{a}\\overline{b}\\overline{c}})\\overline{a}\\overline{b}\\overline{c}\\overline{d} \\quad \\ldots \\\\\n",
    "\\end{align}\n",
    "$$\n",
    "\n",
    "Since for $x \\in G'$, $g \\in G$, we have $x^g \\in G'$ since $G' \\triangleleft G$, this procedure effectively shifts all $G'$ components of $c_0$ to the left. The $Q$ components ($\\overline{a}\\overline{b}\\overline{c}\\overline{d}\\ldots$) are all known from the previous step. And each term in the $G'$ components is either a known constant, or of the form $k_{n}^q$ where $k_n$ is a byte in `key`, and $q \\in Q$. Hence there are a maximum of $|Q| \\times 16 = 64$ unknown terms in the $G'$ component.\n",
    "\n",
    "We first extract out a \"trace\" of the encryption and compute both $G'$ and $Q$ components of `ct`:"
   ]
  },
  {
   "cell_type": "code",
   "execution_count": 8,
   "id": "a1d08161",
   "metadata": {},
   "outputs": [],
   "source": [
    "import numpy as np\n",
    "from functools import reduce, lru_cache, cached_property\n",
    "\n",
    "class Symbol:\n",
    "    \n",
    "    \"\"\"Shitty class to represent a variable\"\"\"\n",
    "    \n",
    "    def __init__(self, x, _islist=False):\n",
    "        if _islist:\n",
    "            self.add = x\n",
    "            return\n",
    "        assert not isinstance(x, int)\n",
    "        self.add = [x]\n",
    "    \n",
    "    def __add__(self, other):\n",
    "        if isinstance(self.add[-1], Element) and isinstance(other.add[0], Element):\n",
    "            new = self.add[:-1] + [self.add[-1] + other.add[0]] + other.add[1:]\n",
    "        else:\n",
    "            new = self.add + other.add\n",
    "        return Symbol(new, True)\n",
    "    \n",
    "    def __mul__(self, n):\n",
    "        assert n >= 0\n",
    "        if n == 0:\n",
    "            return Symbol([], True)\n",
    "        return self + (self * (n-1))\n",
    "    \n",
    "    def __rmul__(self, n):\n",
    "        return self*n\n",
    "\n",
    "ct_sym = encrypt_block(Symbol, [Symbol(\"k%d\"%i) for i in range(16)], [Symbol(Element(x)) for x in pt])"
   ]
  },
  {
   "cell_type": "code",
   "execution_count": 9,
   "id": "dac16816",
   "metadata": {},
   "outputs": [],
   "source": [
    "# Seperate each term of the addition into aa' (where a in G', a' in Q)\n",
    "ct_bsep = []\n",
    "for cc in ct_sym:\n",
    "    l = cc.add\n",
    "    c = []\n",
    "    for b in l:\n",
    "        if isinstance(b, str):\n",
    "            c.append((b, k_c4[int(b[1:])]))\n",
    "            continue\n",
    "        r = rep_C4[G_to_C4[b]]\n",
    "        c.append((b + invmap[r], r))\n",
    "    ct_bsep.append(c)"
   ]
  },
  {
   "cell_type": "code",
   "execution_count": 10,
   "id": "7af99674",
   "metadata": {
    "scrolled": true
   },
   "outputs": [],
   "source": [
    "# Seperate each ct byte into aa' (where a in G', a' in Q)\n",
    "ct_sep = []\n",
    "for l in ct_bsep:\n",
    "\n",
    "    x,y = l[0]\n",
    "    sep = [[(Element(0), x)], y]\n",
    "    for x,y in l[1:]:\n",
    "        ns,rs = sep\n",
    "        assert isinstance(rs, Element)\n",
    "        if isinstance(x, Element):\n",
    "            sep[1] += y\n",
    "            ns.append((Element(0), rs + x + invmap[rs]))\n",
    "            continue\n",
    "        ns.append((rs,x))\n",
    "        sep[1] += y\n",
    "        \n",
    "    # Make sure we seperated correctly\n",
    "    assert len(set([x for x,y in sep[0]])) <= 4\n",
    "    ct_sep.append(sep)"
   ]
  },
  {
   "cell_type": "code",
   "execution_count": 11,
   "id": "9db808c0",
   "metadata": {},
   "outputs": [],
   "source": [
    "from collections import Counter\n",
    "\n",
    "# Since G' is abelian, we can permute the elements, so lets simplify the expressions\n",
    "\n",
    "nct_sep = []\n",
    "for cc in ct_sep:\n",
    "    norm, rem = cc\n",
    "    const = Element(0)\n",
    "    kvar = []\n",
    "    for (a,b), coeff in Counter(norm).items():\n",
    "        if isinstance(b, Element):\n",
    "            assert a.to_byte() == 0\n",
    "            const += b * coeff\n",
    "            continue\n",
    "        kvar.append(((a,b), coeff))\n",
    "    nct_sep.append(((kvar, const), rem))"
   ]
  },
  {
   "cell_type": "code",
   "execution_count": 12,
   "id": "62dc9736",
   "metadata": {},
   "outputs": [],
   "source": [
    "# Now we map everything to G' ~ C21 x C3\n",
    "ct_C21C3 = [Element(c) + invmap[rem] + invmap[const] for c,((_,const),rem) in zip(ct, nct_sep)]\n",
    "# Each item on kvars represents one of 64 possible q k_n q^-1\n",
    "kvars = {\n",
    "    (a,b): f\"g_k{f'{int(b[1:]):02d}'}_{element_to_C4(a)}\" for ((kvar, _), _) in nct_sep for (a,b), _ in kvar\n",
    "}\n",
    "invkvars = {\n",
    "    i:j for j,i in kvars.items()\n",
    "}"
   ]
  },
  {
   "cell_type": "markdown",
   "id": "03aafe7f",
   "metadata": {},
   "source": [
    "## Strategy\n",
    "\n",
    "- What's left is to solve the $G' \\cong C_3 \\times C_{27}$ component. \n",
    "- Implementation-wise it is easier to solve in $\\langle (0,0,1,2)\\rangle \\cong C_7$ and $\\langle(1,0,0,0), (0,1,0,0)\\rangle \\cong C_3^2$. \n",
    "- We can do that as $\\langle (0,0,1,2)\\rangle \\triangleleft G$ and $\\langle(1,0,0,0), (0,1,0,0)\\rangle \\triangleleft G$ which will be explained later"
   ]
  },
  {
   "cell_type": "code",
   "execution_count": 13,
   "id": "bdc83568",
   "metadata": {},
   "outputs": [],
   "source": [
    "assert is_normal([(0,0,k,(k*2)%4)\n",
    "    for k in range(7)\n",
    "])\n",
    "assert is_normal([(i,j,0,0)\n",
    "    for i in range(3)\n",
    "    for j in range(3)\n",
    "])"
   ]
  },
  {
   "cell_type": "markdown",
   "id": "c69f2df6",
   "metadata": {},
   "source": [
    "## Strategy\n",
    "\n",
    "Now we try to solve in $C_7$.\n",
    "\n",
    "We've expressed each byte in `ct` ($c_n$) as $\\displaystyle c_n = \\sum_{q_i \\in Q, \\; c \\in \\mathbb{N}} c q_i k_i' q_i^{-1} + q, \\; q \\in Q$.\n",
    "We define an epimorphism $\\phi: G' \\rightarrow \\langle (0,0,1,2)\\rangle \\cong C_7$, so equating $\\phi(c_n)$ with the given ciphertext gives us $16$ linear equations with $64$ unknowns in $C_7$ of the form $\\phi(q_i k_i' q_i^{-1})$. We need to get $48$ more equations.\n",
    "\n",
    "Since as we've verified, $\\langle (0,0,1,2)\\rangle \\triangleleft G$, the action of $Q$ on $\\langle (0,0,1,2)\\rangle$ by conjugation is well-defined, and maps $Q$ into a subgroup of $\\mathrm{Aut}(\\langle (0,0,1,2)\\rangle) \\cong \\mathbb{Z}_7^* \\cong C_6$ which is abelian. This abelian nature of the action allows us to define a further $48$ linear relations on $\\phi(q_i k_i' q_i^{-1})$."
   ]
  },
  {
   "cell_type": "code",
   "execution_count": 14,
   "id": "92b358d9",
   "metadata": {
    "scrolled": true
   },
   "outputs": [
    {
     "name": "stderr",
     "output_type": "stream",
     "text": [
      "/Tools/sage/local/var/lib/sage/venv-python3.8/lib/python3.8/site-packages/IPython/core/interactiveshell.py:3444: DeprecationWarning: solve_right should be called with a vector or matrix\n",
      "See http://trac.sagemath.org/17405 for details.\n",
      "  exec(code_obj, self.user_global_ns, self.user_ns)\n"
     ]
    }
   ],
   "source": [
    "# Now we solve in C7\n",
    "\n",
    "C7 = Zmod(7)\n",
    "C7_to_element = lambda i: Element(from_tuple((0,0,i%7,((i%7)*2)%4)))\n",
    "element_to_C7 = lambda x: (lambda x: x[2])(to_tuple((x + invmap[rep_C4[element_to_C4(x)]]).to_byte()))\n",
    "\n",
    "ksym_varlist = sorted(PolynomialRing(C7, [*kvars.values()]).gens(), key=lambda x: str(x))\n",
    "ksym_c7 = {str(i): i for i in ksym_varlist}\n",
    "ctsym_c7 = [\n",
    "    sum([coeff*ksym_c7[kvars[(a,b)]] for (a,b), coeff in kvar], 0)\n",
    "    for (kvar, _), _ in nct_sep\n",
    "]\n",
    "ct_C7 = [element_to_C7(i) for i in ct_C21C3]\n",
    "\n",
    "# Group action constraints:\n",
    "# g -> x in C7\n",
    "# a -> y in C4\n",
    "# aga^-1 -> x + x * 5   if y%2 mod 1 else x\n",
    "# g_k<a>_<b> - g_k<a>_0*6 == 0  if b%2 mod 1 else   g_k<a>_<b> - g_k<a>_0 == 0\n",
    "for kidx in range(16):\n",
    "    for oidx in range(1,4):\n",
    "        gb = ksym_c7[f\"g_k{kidx:02d}_{oidx}\"]\n",
    "        x = ksym_c7[f\"g_k{kidx:02d}_0\"]\n",
    "        if oidx % 2 == 1:\n",
    "            ctsym_c7.append(gb - 6*x)\n",
    "        else:\n",
    "            ctsym_c7.append(gb - x)\n",
    "        ct_C7.append(0)\n",
    "\n",
    "mat = matrix(C7, [\n",
    "    [r[k] for k in ksym_varlist] for r in ctsym_c7\n",
    "])\n",
    "sol = mat.solve_right(ct_C7)\n",
    "k_c7 = [sol[ksym_varlist.index(ksym_c7[f\"g_k{kidx:02d}_0\"])] for kidx in range(16)]\n",
    "k_c7 = [Element(from_tuple((0,0,int(i),(int(i)*2)%4))) for i in k_c7]\n",
    "\n",
    "assert len(mat.right_kernel().basis()) == 0"
   ]
  },
  {
   "cell_type": "markdown",
   "id": "ebdedfa7",
   "metadata": {},
   "source": [
    "## Strategy\n",
    "\n",
    "Now we do the same for solve in $C_3^2$, defining a map $G' \\rightarrow \\langle(1,0,0,0), (0,1,0,0)\\rangle = X \\cong C_3^2$. Since we have $X \\triangleleft G$, the action of $Q$ on $X$ by conjugation is well defined, and maps $Q \\rightarrow \\mathrm{Aut}(X) \\cong \\mathrm{GL}_2(3)$ on which we similarly define the additional $48$ constraints."
   ]
  },
  {
   "cell_type": "code",
   "execution_count": 15,
   "id": "54ae529c",
   "metadata": {},
   "outputs": [],
   "source": [
    "# Now we solve in the first C3 x C3\n",
    "\n",
    "C3 = Zmod(3)\n",
    "C33_to_element = lambda i: Element(from_tuple((i[0], i[1] ,0,0)))\n",
    "element_to_C33 = lambda x: (lambda x: (C3(x[0]),C3(x[1])))(to_tuple(x.to_byte()))\n",
    "\n",
    "_ = [*kvars.values()]\n",
    "_ = [i + f\"_{j}\" for i in _ for j in range(2)]\n",
    "ksym_varlist = sorted(PolynomialRing(C3, _).gens(), key=lambda x: str(x))\n",
    "ksym = {str(i): i for i in ksym_varlist}\n",
    "ctsym = [\n",
    "    (\n",
    "        sum([coeff*ksym[kvars[(a,b)] + \"_0\"] for (a,b), coeff in kvar], 0), \n",
    "        sum([coeff*ksym[kvars[(a,b)] + \"_1\"] for (a,b), coeff in kvar], 0))\n",
    "    for (kvar, _), _ in nct_sep\n",
    "]\n",
    "ct_C33 = [element_to_C33(i) for i in ct_C21C3]\n",
    "\n",
    "# g -> (x,y) in C33\n",
    "# a -> z in C4 \n",
    "# g_<b> =\n",
    "#    x*(1,2) + y*(2,2)        b == 1\n",
    "#    2*g_<0>                  b == 2\n",
    "#    2*x*(1,2) + 2*y*(2,2)    b == 3\n",
    "for kidx in range(16):\n",
    "    for oidx in range(1,4):\n",
    "        a,b = ksym[f\"g_k{kidx:02d}_{oidx}_0\"], ksym[f\"g_k{kidx:02d}_{oidx}_1\"]\n",
    "        x,y = ksym[f\"g_k{kidx:02d}_0_0\"], ksym[f\"g_k{kidx:02d}_0_1\"]\n",
    "        if oidx == 1:\n",
    "            ctsym.append((\n",
    "                a - (1*x + 2*y),\n",
    "                b - (2*x + 2*y)\n",
    "            ))\n",
    "            ct_C33.append((0,0))\n",
    "        if oidx == 2:\n",
    "            ctsym.append((\n",
    "                a - (2*x),\n",
    "                b - (2*y)\n",
    "            ))\n",
    "            ct_C33.append((0,0))\n",
    "        if oidx == 3:\n",
    "            ctsym.append((\n",
    "                a - (2*x + 4*y),\n",
    "                b - (4*x + 4*y)\n",
    "            ))\n",
    "            ct_C33.append((0,0))\n",
    "        \n",
    "mat = matrix(C3, [\n",
    "    [x[k] for k in ksym_varlist] for r in ctsym for x in r\n",
    "])\n",
    "ct_C33_mat = [x for r in ct_C33 for x in r]\n",
    "\n",
    "sol = mat.solve_right(ct_C33_mat)\n",
    "k_c33 = [(\n",
    "    sol[ksym_varlist.index(ksym[f\"g_k{kidx:02d}_0_0\"])],\n",
    "    sol[ksym_varlist.index(ksym[f\"g_k{kidx:02d}_0_1\"])]\n",
    ") for kidx in range(16)]\n",
    "k_c33 = [Element(from_tuple((int(i[0]),int(i[1]),0,0))) for i in k_c33]\n",
    "\n",
    "assert len(mat.right_kernel().basis()) == 0"
   ]
  },
  {
   "cell_type": "markdown",
   "id": "86f7b74f",
   "metadata": {},
   "source": [
    "## Strategy\n",
    "\n",
    "At this point, we have solved for `key` in $G'$ and in $G/G'$ so it's trivial reconstruct `key`:"
   ]
  },
  {
   "cell_type": "code",
   "execution_count": 16,
   "id": "db26bbf9",
   "metadata": {},
   "outputs": [
    {
     "name": "stdout",
     "output_type": "stream",
     "text": [
      "flag: SEE{143349be7827dc5f9916f4adb97e6241}\n"
     ]
    }
   ],
   "source": [
    "from aes import encrypt_block as encblk\n",
    "key_recovered = bytes([(z + x + y).to_byte() for x,y,z in zip(k_c7, k_c4, k_c33)])\n",
    "assert bytes(encblk(key_recovered, pt)) == bytes(ct)\n",
    "\n",
    "print(\"flag:\", \"SEE{%s}\"%key_recovered.hex())"
   ]
  },
  {
   "cell_type": "markdown",
   "id": "13bef704",
   "metadata": {},
   "source": [
    "..."
   ]
  },
  {
   "cell_type": "markdown",
   "id": "9cf3dd72",
   "metadata": {},
   "source": [
    "..."
   ]
  },
  {
   "cell_type": "markdown",
   "id": "a326b650",
   "metadata": {},
   "source": [
    "..."
   ]
  },
  {
   "cell_type": "markdown",
   "id": "cba5834f",
   "metadata": {},
   "source": [
    "..."
   ]
  },
  {
   "cell_type": "markdown",
   "id": "103972ea",
   "metadata": {},
   "source": [
    "..."
   ]
  },
  {
   "cell_type": "markdown",
   "id": "38fb8a73",
   "metadata": {},
   "source": [
    "# Scratchpad below onwards, can ignore"
   ]
  },
  {
   "cell_type": "code",
   "execution_count": null,
   "id": "5c7fa486",
   "metadata": {},
   "outputs": [],
   "source": [
    "print([to_tuple((x + y).to_byte())[2:] for x,y in zip(k_c7, k_c4)])\n",
    "print([to_tuple(k)[2:] for k in key])"
   ]
  },
  {
   "cell_type": "code",
   "execution_count": 15,
   "id": "575c0d9c",
   "metadata": {},
   "outputs": [
    {
     "name": "stdout",
     "output_type": "stream",
     "text": [
      "(6, 3, 4, 5, 5, 4, 5, 1, 0, 5, 2, 3, 3, 2, 6, 2)\n",
      "[6, 3, 4, 5, 5, 4, 5, 1, 0, 5, 2, 3, 3, 2, 6, 2]\n",
      "(0, 0, 0, 0, 0, 0, 0, 0, 0, 0, 0, 0, 0, 0, 0, 0, 0, 0, 0, 0, 0, 0, 0, 0, 0, 0, 0, 0, 0, 0, 0, 0, 0, 0, 0, 0, 0, 0, 0, 0, 0, 0, 0, 0, 0, 0, 0, 0)\n",
      "[0, 0, 0, 0, 0, 0, 0, 0, 0, 0, 0, 0, 0, 0, 0, 0, 0, 0, 0, 0, 0, 0, 0, 0, 0, 0, 0, 0, 0, 0, 0, 0, 0, 0, 0, 0, 0, 0, 0, 0, 0, 0, 0, 0, 0, 0, 0, 0]\n"
     ]
    },
    {
     "data": {
      "text/plain": [
       "(None, None)"
      ]
     },
     "execution_count": 15,
     "metadata": {},
     "output_type": "execute_result"
    }
   ],
   "source": [
    "_kmap = [Element(i) for i in key]\n",
    "_kmap = [b + invmap[rep_C4[G_to_C4[b]]] for b in _kmap]\n",
    "_nkmap = [(lambda a,b: a + _kmap[int(b[1:])] + invmap[a])(*invkvars[str(v)]) for v in ksym_varlist]\n",
    "_nkmap = vector(C7, [element_to_C7(i) for i in _nkmap])\n",
    "print((mat*_nkmap)[:16]), print(ct_C7[:16])\n",
    "print((mat*_nkmap)[16:]), print(ct_C7[16:])"
   ]
  },
  {
   "cell_type": "code",
   "execution_count": 284,
   "id": "e6f77c62",
   "metadata": {},
   "outputs": [
    {
     "name": "stdout",
     "output_type": "stream",
     "text": [
      "[<E:248>, <E:126>, <E:32>, <E:218>, <E:227>, <E:197>, <E:136>, <E:89>, <E:190>, <E:76>, <E:189>, <E:197>, <E:158>, <E:221>, <E:157>, <E:211>]\n",
      "[<E:248>, <E:126>, <E:32>, <E:218>, <E:227>, <E:197>, <E:136>, <E:89>, <E:190>, <E:76>, <E:189>, <E:197>, <E:158>, <E:221>, <E:157>, <E:211>]\n"
     ]
    }
   ],
   "source": [
    "_kmap = [Element(i) for i in key]\n",
    "_kmap = [b + invmap[rep_C4[G_to_C4[b]]] for b in _kmap]\n",
    "#print([\n",
    "#    sum([x+(y if isinstance(y, Element) else _kmap[int(y[1:])])+invmap[x] for x,y in norm], Element(0)) + rem\n",
    "#    for norm, rem in ct_sep\n",
    "#])\n",
    "print([\n",
    "    sum([coeff*(a + _kmap[int(b[1:])] + invmap[a]) for (a,b), coeff in kvar], Element(0)) + const + rem\n",
    "    for (kvar, const), rem in nct_sep\n",
    "])\n",
    "print([*map(Element, ct)])"
   ]
  },
  {
   "cell_type": "code",
   "execution_count": 181,
   "id": "f9377554",
   "metadata": {},
   "outputs": [
    {
     "data": {
      "text/plain": [
       "{(0, 0): {((0, 0), (0, 0), (0, 0), (0, 0))},\n",
       " (1, 0): {((2, 2), (2, 1), (0, 2), (0, 0))},\n",
       " (2, 0): {((1, 1), (1, 2), (0, 1), (0, 0))},\n",
       " (0, 1): {((2, 0), (1, 1), (2, 1), (0, 0))},\n",
       " (1, 1): {((1, 2), (0, 2), (2, 0), (0, 0))},\n",
       " (2, 1): {((0, 1), (2, 0), (2, 2), (0, 0))},\n",
       " (0, 2): {((1, 0), (2, 2), (1, 2), (0, 0))},\n",
       " (1, 2): {((0, 2), (1, 0), (1, 1), (0, 0))},\n",
       " (2, 2): {((2, 1), (0, 1), (1, 0), (0, 0))}}"
      ]
     },
     "execution_count": 181,
     "metadata": {},
     "output_type": "execute_result"
    }
   ],
   "source": [
    "e_to_a = {i: [element_to_C33(r + i + invmap[r]) for r in rep_C4] for i in map(Element, range(252))}\n",
    "c33_to_a = {}\n",
    "for i,l in e_to_a.items():\n",
    "    c = tuple(element_to_C33(i))\n",
    "    if c not in c33_to_a: c33_to_a[c] = set()\n",
    "    c33_to_a[c].add(tuple(map(tuple, [C33(x) -  2*c[0]*C33((1,2)) - 2*c[1]*C33((2,2)) for x in l])))\n",
    "c33_to_a"
   ]
  },
  {
   "cell_type": "code",
   "execution_count": 88,
   "id": "72e94489",
   "metadata": {},
   "outputs": [
    {
     "data": {
      "text/plain": [
       "(1, 0)"
      ]
     },
     "execution_count": 88,
     "metadata": {},
     "output_type": "execute_result"
    }
   ],
   "source": [
    "C33((0,2)) + C33((1,1))"
   ]
  },
  {
   "cell_type": "code",
   "execution_count": null,
   "id": "6ea2402f",
   "metadata": {},
   "outputs": [],
   "source": [
    "# g -> (x,y) in C33\n",
    "# a -> z in C4 \n",
    "# g_<b> =\n",
    "#    x*(1,2) + y*(2,2)    b == 1\n",
    "#    2*g_<0>   b == 2\n",
    "#    2*x*(1,2) + 2*y*(2,2)    b == 3"
   ]
  },
  {
   "cell_type": "code",
   "execution_count": null,
   "id": "dae7acd8",
   "metadata": {},
   "outputs": [],
   "source": []
  },
  {
   "cell_type": "code",
   "execution_count": 354,
   "id": "b5bcf0ae",
   "metadata": {},
   "outputs": [
    {
     "data": {
      "text/plain": [
       "{0: {(0, 0, 0, 0)},\n",
       " 1: {(0, 5, 0, 5)},\n",
       " 2: {(0, 3, 0, 3)},\n",
       " 3: {(0, 1, 0, 1)},\n",
       " 4: {(0, 6, 0, 6)},\n",
       " 5: {(0, 4, 0, 4)},\n",
       " 6: {(0, 2, 0, 2)}}"
      ]
     },
     "execution_count": 354,
     "metadata": {},
     "output_type": "execute_result"
    }
   ],
   "source": [
    "e_to_a = {i: [element_to_C7(r + i + invmap[r]) for r in rep_C4] for i in map(Element, range(252))}\n",
    "c7_to_a = {}\n",
    "for i,l in e_to_a.items():\n",
    "    c = element_to_C7(i)\n",
    "    if c not in c7_to_a: c7_to_a[c] = set()\n",
    "    c7_to_a[c].add(tuple([C7(x-c) for x in l]))\n",
    "c7_to_a"
   ]
  },
  {
   "cell_type": "code",
   "execution_count": null,
   "id": "a31abad3",
   "metadata": {},
   "outputs": [],
   "source": []
  },
  {
   "cell_type": "code",
   "execution_count": null,
   "id": "4daa58bb",
   "metadata": {},
   "outputs": [],
   "source": [
    "# g -> x in C7\n",
    "# a -> y in C4\n",
    "# aga^-1 -> x + x * 5   if y%2 mod 1 else x"
   ]
  },
  {
   "cell_type": "code",
   "execution_count": null,
   "id": "f889dc95",
   "metadata": {},
   "outputs": [],
   "source": []
  },
  {
   "cell_type": "code",
   "execution_count": 248,
   "id": "607e67c7",
   "metadata": {},
   "outputs": [
    {
     "data": {
      "text/plain": [
       "((3, 14, 6, 19, 14, 9, 3, 7, 15, 10, 16, 5, 17, 14, 13, 12),\n",
       " [3, 14, 6, 19, 14, 9, 3, 7, 15, 10, 16, 5, 17, 14, 13, 12])"
      ]
     },
     "execution_count": 248,
     "metadata": {},
     "output_type": "execute_result"
    }
   ],
   "source": [
    "# Now we solve in C21\n",
    "\n",
    "C21 = Zmod(21)\n",
    "C21_to_element = lambda i: Element(from_tuple((0,i%3,i%7,((i%7)*2)%4)))\n",
    "element_to_C21 = lambda x: (lambda x: _[(0,x[1],x[2],x[3])])(to_tuple((x + invmap[rep_C4[element_to_C4(x)]]).to_byte()))\n",
    "\n",
    "ksym_varlist = PolynomialRing(C21, [*kvars.values()]).gens()\n",
    "ksym_c21 = {str(i): i for i in ksym_varlist}\n",
    "ctsym_c21 = [\n",
    "    sum([coeff*ksym_c21[kvars[(a,b)]] for (a,b), coeff in kvar], 0)\n",
    "    for (kvar, _), _ in nct_sep\n",
    "]\n",
    "ct_C21 = [element_to_C21(i) for i in ct_C21C3]\n",
    "\n",
    "mat = matrix(C21, [\n",
    "    [r[k] for k in ksym_varlist] for r in ctsym_c21\n",
    "])\n",
    "\n",
    "_kmap = [Element(i) for i in key]\n",
    "_kmap = [b + invmap[rep_C4[G_to_C4[b]]] for b in _kmap]\n",
    "_nkmap = [(lambda a,b: a + _kmap[int(b[1:])] + invmap[a])(*invkvars[str(v)]) for v in ksym_varlist]\n",
    "_nkmap = vector(C21, [element_to_C21(i) for i in _nkmap])\n",
    "mat*_nkmap, ct_C21"
   ]
  },
  {
   "cell_type": "code",
   "execution_count": 260,
   "id": "be3ddaee",
   "metadata": {},
   "outputs": [
    {
     "data": {
      "text/plain": [
       "{0: {(0, 0, 0, 0), (0, 7, 0, 14), (0, 14, 0, 7)},\n",
       " 7: {(7, 0, 14, 0), (7, 7, 14, 14), (7, 14, 14, 7)},\n",
       " 14: {(14, 0, 7, 0), (14, 7, 7, 14), (14, 14, 7, 7)},\n",
       " 15: {(15, 6, 15, 6), (15, 13, 15, 20), (15, 20, 15, 13)},\n",
       " 1: {(1, 6, 8, 6), (1, 13, 8, 20), (1, 20, 8, 13)},\n",
       " 8: {(8, 6, 1, 6), (8, 13, 1, 20), (8, 20, 1, 13)},\n",
       " 9: {(9, 5, 9, 19), (9, 12, 9, 12), (9, 19, 9, 5)},\n",
       " 16: {(16, 5, 2, 19), (16, 12, 2, 12), (16, 19, 2, 5)},\n",
       " 2: {(2, 5, 16, 19), (2, 12, 16, 12), (2, 19, 16, 5)},\n",
       " 3: {(3, 4, 3, 11), (3, 11, 3, 4), (3, 18, 3, 18)},\n",
       " 10: {(10, 4, 17, 11), (10, 11, 17, 4), (10, 18, 17, 18)},\n",
       " 17: {(17, 4, 10, 11), (17, 11, 10, 4), (17, 18, 10, 18)},\n",
       " 18: {(18, 3, 18, 3), (18, 10, 18, 17), (18, 17, 18, 10)},\n",
       " 4: {(4, 3, 11, 3), (4, 10, 11, 17), (4, 17, 11, 10)},\n",
       " 11: {(11, 3, 4, 3), (11, 10, 4, 17), (11, 17, 4, 10)},\n",
       " 12: {(12, 2, 12, 16), (12, 9, 12, 9), (12, 16, 12, 2)},\n",
       " 19: {(19, 2, 5, 16), (19, 9, 5, 9), (19, 16, 5, 2)},\n",
       " 5: {(5, 2, 19, 16), (5, 9, 19, 9), (5, 16, 19, 2)},\n",
       " 6: {(6, 1, 6, 8), (6, 8, 6, 1), (6, 15, 6, 15)},\n",
       " 13: {(13, 1, 20, 8), (13, 8, 20, 1), (13, 15, 20, 15)},\n",
       " 20: {(20, 1, 13, 8), (20, 8, 13, 1), (20, 15, 13, 15)}}"
      ]
     },
     "execution_count": 260,
     "metadata": {},
     "output_type": "execute_result"
    }
   ],
   "source": [
    "e_to_a = {i: [element_to_C21(r + i + invmap[r]) for r in rep_C4] for i in map(Element, range(252))}\n",
    "c21_to_a = {}\n",
    "for i,l in e_to_a.items():\n",
    "    c = element_to_C21(i)\n",
    "    if c not in c21_to_a: c21_to_a[c] = set()\n",
    "    c21_to_a[c].add(tuple(l))\n",
    "c21_to_a"
   ]
  }
 ],
 "metadata": {
  "kernelspec": {
   "display_name": "SageMath 9.6",
   "language": "sage",
   "name": "sagemath"
  },
  "language_info": {
   "codemirror_mode": {
    "name": "ipython",
    "version": 3
   },
   "file_extension": ".py",
   "mimetype": "text/x-python",
   "name": "python",
   "nbconvert_exporter": "python",
   "pygments_lexer": "ipython3",
   "version": "3.8.10"
  }
 },
 "nbformat": 4,
 "nbformat_minor": 5
}
