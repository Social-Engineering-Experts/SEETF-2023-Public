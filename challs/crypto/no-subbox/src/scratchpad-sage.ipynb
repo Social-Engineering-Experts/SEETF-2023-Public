{
 "cells": [
  {
   "cell_type": "code",
   "execution_count": 54,
   "id": "e0784cd2",
   "metadata": {},
   "outputs": [],
   "source": [
    "# Cp x Cq ==> Cq -> Aut(Cp) ==> gcd(|Cq|, |Aut(Cp)|)"
   ]
  },
  {
   "cell_type": "code",
   "execution_count": 107,
   "id": "8fe174fc",
   "metadata": {},
   "outputs": [
    {
     "name": "stdout",
     "output_type": "stream",
     "text": [
      "2\n",
      "6\n",
      "14\n",
      "42\n"
     ]
    },
    {
     "data": {
      "text/plain": [
       "52374"
      ]
     },
     "execution_count": 107,
     "metadata": {},
     "output_type": "execute_result"
    }
   ],
   "source": [
    "# C43 x (C29 x (C7 x (C3 x C2)))\n",
    "print(gcd(2, euler_phi(3)))\n",
    "print(gcd(2*3, euler_phi(7)))\n",
    "print(gcd(2*3*7, euler_phi(29)))\n",
    "print(gcd(2*3*7*29, euler_phi(43)))\n",
    "2*3*7*29*43"
   ]
  },
  {
   "cell_type": "code",
   "execution_count": 76,
   "id": "657b7dc5",
   "metadata": {},
   "outputs": [
    {
     "data": {
      "text/plain": [
       "75516"
      ]
     },
     "execution_count": 76,
     "metadata": {},
     "output_type": "execute_result"
    }
   ],
   "source": [
    "# (Cp x Cq) x Cr \n",
    "# Cq -> Aut(Cp)\n",
    "# Cr -> Aut(Cp x Cq)"
   ]
  },
  {
   "cell_type": "code",
   "execution_count": 78,
   "id": "d45415c1",
   "metadata": {},
   "outputs": [
    {
     "data": {
      "text/plain": [
       "37758"
      ]
     },
     "execution_count": 78,
     "metadata": {},
     "output_type": "execute_result"
    }
   ],
   "source": [
    "# C2 -> Aut(C3)\n",
    "# 1: 1 -> 2"
   ]
  },
  {
   "cell_type": "code",
   "execution_count": 109,
   "id": "72f7cd49",
   "metadata": {},
   "outputs": [
    {
     "data": {
      "text/plain": [
       "1218"
      ]
     },
     "execution_count": 109,
     "metadata": {},
     "output_type": "execute_result"
    }
   ],
   "source": [
    "class Semi:\n",
    "    \n",
    "    def __init__(self,a,b,twist):\n",
    "        self.a = a\n",
    "        self.b = b\n",
    "        self.twist = twist\n",
    "        \n",
    "    def gen_element(self, x,y):\n",
    "        return SemiElement(self, x%self.a, y%self.b)\n",
    "    \n",
    "class SemiElement:\n",
    "    \n",
    "    def __init__(self, semi, x, y):\n",
    "        self.semi = semi\n",
    "        self.x = x\n",
    "        self.y = y\n",
    "        \n",
    "    def __neg__(self):\n",
    "        ..."
   ]
  },
  {
   "cell_type": "code",
   "execution_count": 110,
   "id": "d11ca72c",
   "metadata": {},
   "outputs": [
    {
     "data": {
      "text/plain": [
       "1218"
      ]
     },
     "execution_count": 110,
     "metadata": {},
     "output_type": "execute_result"
    }
   ],
   "source": [
    "# Order 252: https://people.maths.bris.ac.uk/~matyd/GroupNames/241/C3%5E2sDic7.html\n",
    "#   C7⋊(C32⋊C4)\n",
    "#   G / C7 ~ C32⋊C4\n",
    "#   G / C7 / C32 ~ C4\n",
    "#     C4   C32\n",
    "#   1 < C4  < C32⋊C4 < G\n",
    "#   G = < a,b,c,d | a3=b3=c14=1, d2=c7, ab=ba, cac-1=a-1, dad-1=ab-1, cbc-1=b-1, dbd-1=a-1b-1, dcd-1=c-1 >\n",
    "# Order 270: https://people.maths.bris.ac.uk/~matyd/GroupNames/257/He3sD5.html"
   ]
  },
  {
   "cell_type": "code",
   "execution_count": 111,
   "id": "650a6b77",
   "metadata": {},
   "outputs": [],
   "source": [
    "G=gap.SmallGroup(252,32);"
   ]
  },
  {
   "cell_type": "code",
   "execution_count": null,
   "id": "e1a5c9a7",
   "metadata": {
    "scrolled": false
   },
   "outputs": [],
   "source": []
  },
  {
   "cell_type": "code",
   "execution_count": null,
   "id": "e835aa29",
   "metadata": {},
   "outputs": [],
   "source": []
  },
  {
   "cell_type": "code",
   "execution_count": 112,
   "id": "7675ee03",
   "metadata": {},
   "outputs": [],
   "source": [
    "# RCON for C4\n",
    "RCON = [0, 0, 0, 0, 0, 2, 2, 3, 2, 2, 0, 1, 3, 0, 1, 0, 2, 1, 2, 3, 3, 2, 2, 3, 1, 0, 3, 1, 3, 1, 2, 0]\n",
    "N_ROUNDS = 10\n",
    "N_BYTES = 16\n",
    "\n",
    "def shift_rows(s):\n",
    "    s[0][1], s[1][1], s[2][1], s[3][1] = s[1][1], s[2][1], s[3][1], s[0][1]\n",
    "    s[0][2], s[1][2], s[2][2], s[3][2] = s[2][2], s[3][2], s[0][2], s[1][2]\n",
    "    s[0][3], s[1][3], s[2][3], s[3][3] = s[3][3], s[0][3], s[1][3], s[2][3]\n",
    "    \n",
    "def add_round_key(s, k):\n",
    "    for i in range(4):\n",
    "        for j in range(4):\n",
    "            s[i][j] += k[i][j]\n",
    "            \n",
    "def mix_single_column(a):\n",
    "    b1,b2,b3,b4 = (\n",
    "        2*a[0] + 3*a[1] + 1*a[2] + 1*a[3],\n",
    "        1*a[0] + 2*a[1] + 3*a[2] + 1*a[3],\n",
    "        1*a[0] + 1*a[1] + 2*a[2] + 3*a[3],\n",
    "        3*a[0] + 1*a[1] + 1*a[2] + 2*a[3]\n",
    "    )\n",
    "    a[0],a[1],a[2],a[3] = b1,b2,b3,b4\n",
    "    \n",
    "def mix_columns(s):\n",
    "    for i in range(4):\n",
    "        mix_single_column(s[i])\n",
    "        \n",
    "def xor_bytes(a, b):\n",
    "    return [i+j for i, j in zip(a, b)]\n",
    "\n",
    "def bytes2matrix(text):\n",
    "    return [text[i:i+4] for i in range(0, len(text), 4)]\n",
    "\n",
    "def matrix2bytes(matrix):\n",
    "    return sum(matrix, [])\n",
    "        \n",
    "def expand_key(master_key):\n",
    "    \n",
    "    key_columns = bytes2matrix(master_key)\n",
    "    iteration_size = len(master_key) // 4\n",
    "\n",
    "    i = 1\n",
    "    while len(key_columns) < (N_ROUNDS + 1) * 4:\n",
    "        # Copy previous word.\n",
    "        word = list(key_columns[-1])\n",
    "\n",
    "        # Perform schedule_core once every \"row\".\n",
    "        if len(key_columns) % iteration_size == 0:\n",
    "            # Circular shift.\n",
    "            word.append(word.pop(0))\n",
    "            # XOR with first byte of R-CON, since the others bytes of R-CON are 0.\n",
    "            word[0] += RCON[i]\n",
    "            i += 1\n",
    "\n",
    "        # XOR with equivalent word from previous iteration.\n",
    "        word = xor_bytes(word, key_columns[-iteration_size])\n",
    "        key_columns.append(word)\n",
    "\n",
    "    # Group key words in 4x4 byte matrices.\n",
    "    return [key_columns[4*i : 4*(i+1)] for i in range(len(key_columns) // 4)]\n",
    "\n",
    "def encrypt_block(key, plaintext):\n",
    "\n",
    "    assert len(plaintext) == N_BYTES\n",
    "\n",
    "    plain_state = bytes2matrix(plaintext)\n",
    "    round_keys = expand_key(key)\n",
    "    \n",
    "    add_round_key(plain_state, round_keys[0])\n",
    "\n",
    "    for i in range(1, N_ROUNDS):\n",
    "        shift_rows(plain_state)\n",
    "        mix_columns(plain_state)\n",
    "        add_round_key(plain_state, round_keys[i])\n",
    "\n",
    "    shift_rows(plain_state)\n",
    "    add_round_key(plain_state, round_keys[-1])\n",
    "\n",
    "    return matrix2bytes(plain_state)"
   ]
  },
  {
   "cell_type": "code",
   "execution_count": 113,
   "id": "67252e0a",
   "metadata": {},
   "outputs": [],
   "source": [
    "F = Zmod(4)\n",
    "key = PolynomialRing(F, [\"k%d\"%d for d in range(16)]).gens()\n",
    "\n",
    "xk1 = [0, 1, 3, 2, 3, 2, 1, 3, 3, 2, 0, 1, 2, 2, 2, 2]\n",
    "xp1 = [2, 2, 2, 2, 2, 0, 0, 0, 0, 2, 2, 2, 2, 2, 2, 0]\n",
    "xc1 = [1, 0, 1, 3, 2, 0, 2, 3, 3, 0, 1, 1, 1, 3, 3, 1]"
   ]
  },
  {
   "cell_type": "code",
   "execution_count": 114,
   "id": "f5144f80",
   "metadata": {},
   "outputs": [],
   "source": [
    "ct = encrypt_block(key,xp1)\n",
    "mat = matrix(F, [\n",
    "    [r[k] for k in key] for r in ct\n",
    "])\n",
    "c1mod = vector(F, [c-ct[i].constant_coefficient() for i,c in enumerate(xc1)])\n",
    "\n",
    "k1_c4 = mat.solve_right(c1mod)\n",
    "assert all(int(x)==y for x,y in zip(k1_c4, xk1))"
   ]
  },
  {
   "cell_type": "code",
   "execution_count": null,
   "id": "e8966587",
   "metadata": {},
   "outputs": [],
   "source": []
  },
  {
   "cell_type": "code",
   "execution_count": null,
   "id": "db4052b7",
   "metadata": {},
   "outputs": [],
   "source": []
  },
  {
   "cell_type": "code",
   "execution_count": 106,
   "id": "4ffa3a3c",
   "metadata": {},
   "outputs": [],
   "source": [
    "for i in range(16):\n",
    "    globals()[\"k%d\"%i] = xk1[i]"
   ]
  },
  {
   "cell_type": "code",
   "execution_count": 107,
   "id": "b3766fc6",
   "metadata": {},
   "outputs": [
    {
     "name": "stdout",
     "output_type": "stream",
     "text": [
      "[1, 0, 1, 3, 2, 0, 2, 3, 3, 0, 1, 1, 1, 3, 3, 1]\n",
      "[1, 0, 1, 3, 2, 0, 2, 3, 3, 0, 1, 1, 1, 3, 3, 1]\n"
     ]
    }
   ],
   "source": [
    "print([eval(str(c))%4 for c in ct])\n",
    "print(xc1)"
   ]
  },
  {
   "cell_type": "code",
   "execution_count": null,
   "id": "8cd00fab",
   "metadata": {},
   "outputs": [],
   "source": []
  }
 ],
 "metadata": {
  "kernelspec": {
   "display_name": "SageMath 9.6",
   "language": "sage",
   "name": "sagemath"
  },
  "language_info": {
   "codemirror_mode": {
    "name": "ipython",
    "version": 3
   },
   "file_extension": ".py",
   "mimetype": "text/x-python",
   "name": "python",
   "nbconvert_exporter": "python",
   "pygments_lexer": "ipython3",
   "version": "3.8.10"
  }
 },
 "nbformat": 4,
 "nbformat_minor": 5
}
