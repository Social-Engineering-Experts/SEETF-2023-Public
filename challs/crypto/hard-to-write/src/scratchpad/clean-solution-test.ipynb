{
 "cells": [
  {
   "cell_type": "code",
   "execution_count": 1,
   "id": "6bcbcb29",
   "metadata": {},
   "outputs": [],
   "source": [
    "import numpy as np\n",
    "import matplotlib.pyplot as plt\n",
    "from inspect import signature\n",
    "from itertools import product\n",
    "from functools import reduce\n",
    "from collections import Counter\n",
    "import time\n",
    "\n",
    "def get_ddt(sbox):\n",
    "    \"\"\"\n",
    "    Returns the Difference Distribution Table (DDT) for `sbox`\n",
    "    \"\"\"\n",
    "    l = len(sbox)\n",
    "    ddt = np.zeros((l,l), dtype=int)\n",
    "    for i,x in enumerate(sbox):\n",
    "        for j,y in enumerate(sbox):\n",
    "            ddt[i^j][x^y] += 1\n",
    "    return ddt\n",
    "\n",
    "def tobits(x:int, nbits:int): \n",
    "    \"\"\"\n",
    "    Unpacks `x` into a list of `nbits` bits in little endian\n",
    "    \"\"\"\n",
    "    return [*map(int, format(x, \"0%db\"%nbits)[::-1])]\n",
    "\n",
    "def frombits(bits):\n",
    "    \"\"\"\n",
    "    Packs `b`, a list of bits into an integer in little endian\n",
    "    \"\"\"\n",
    "    return sum(b*(1<<i) for i,b in enumerate(bits))"
   ]
  },
  {
   "cell_type": "code",
   "execution_count": 8,
   "id": "9729ddaf",
   "metadata": {},
   "outputs": [],
   "source": [
    "import random\n",
    "\n",
    "def swap(a,x,y):\n",
    "    a[x] ^= a[y]\n",
    "    a[y] ^= a[x]\n",
    "    a[x] ^= a[y]\n",
    "\n",
    "random.seed(1)\n",
    "PERM = np.array([0, 16, 32, 48, 1, 17, 33, 49, 2, 18, 34, 50, 3, 19, 35, 51,\n",
    "        4, 20, 36, 52, 5, 21, 37, 53, 6, 22, 38, 54, 7, 23, 39, 55,\n",
    "        8, 24, 40, 56, 9, 25, 41, 57, 10, 26, 42, 58, 11, 27, 43, 59,\n",
    "        12, 28, 44, 60, 13, 29, 45, 61, 14, 30, 46, 62, 15, 31, 47, 63], dtype=np.uint64)\n",
    "\n",
    "#random.shuffle(SBOX := [*range(16)])\n",
    "SBOX = [(3 + 7*j)%16 for j in range(16)]\n",
    "len(set(SBOX))\n",
    "swap(SBOX, 5, 2)\n",
    "swap(SBOX, 14, 10)"
   ]
  },
  {
   "cell_type": "code",
   "execution_count": 9,
   "id": "366dc2b4",
   "metadata": {},
   "outputs": [],
   "source": [
    "# Precompiled\n",
    "\n",
    "opt = True\n",
    "threshold = 4\n",
    "\n",
    "# SBOX H-rep\n",
    "ddt = get_ddt(SBOX)\n",
    "ddt_thres = ddt > threshold\n",
    "d = dict([(x,y) for x in range(16) for y in range(16) if ddt_thres[x,y] != 0])\n",
    "DDT_SBOX = np.array([d[i] for i in range(16)], dtype=np.uint64)"
   ]
  },
  {
   "cell_type": "code",
   "execution_count": 11,
   "id": "2c53c6cd",
   "metadata": {},
   "outputs": [],
   "source": [
    "from numba import jit, uint64, byte, types, float64\n",
    "\n",
    "@jit(uint64(byte[:]))\n",
    "def byte2int(blk):\n",
    "    r = 0\n",
    "    for i in range(8):\n",
    "        r += blk[i] << (i*8)\n",
    "    return r\n",
    "\n",
    "@jit(byte[:](uint64))\n",
    "def int2byte(x):\n",
    "    r = np.zeros(8, dtype=np.uint8)\n",
    "    for i in range(8): r[i] = (x >> (i*8))&0xff\n",
    "    return r\n",
    "\n",
    "@jit(uint64[:](byte[:]))\n",
    "def toints(pt):\n",
    "    r = np.zeros(len(pt)//8, dtype=np.uint64)\n",
    "    for i in range(len(pt)//8): r[i] = byte2int(pt[8*i:8*i+8])\n",
    "    return r\n",
    "\n",
    "@jit(uint64(uint64))\n",
    "def sub(p):\n",
    "    r = 0\n",
    "    for i in range(16):\n",
    "        r = r | DDT_SBOX[(p >> (i*4)) & 0xf] << (i*4)\n",
    "    return r\n",
    "\n",
    "@jit(uint64(uint64))\n",
    "def perm(p):\n",
    "    r = 0\n",
    "    for i in range(64):\n",
    "        r |= ((p >> i) & 1) << PERM[i]\n",
    "    return r\n",
    "\n",
    "#def encryptblk(p, nrounds):\n",
    "#    trail = []\n",
    "#    for k in range(nrounds):\n",
    "#        trail.append(p)\n",
    "#        p = sub(p)\n",
    "#        p = perm(p)\n",
    "#    p = sub(p)\n",
    "#    return p, trail\n",
    "\n",
    "@jit(types.Tuple((uint64, float64))(uint64, uint64))\n",
    "def encryptblk(p, nrounds):\n",
    "    trailprob = 1.0\n",
    "    for k in range(nrounds):\n",
    "        for i in range(16):\n",
    "            x = (p >> (i*4))&0xf\n",
    "            trailprob *= ddt[x][DDT_SBOX[x]]/16\n",
    "        p = sub(p)\n",
    "        p = perm(p)\n",
    "    p = sub(p)\n",
    "    return p, trailprob"
   ]
  },
  {
   "cell_type": "code",
   "execution_count": 12,
   "id": "6b2b7204",
   "metadata": {},
   "outputs": [],
   "source": [
    "from functools import reduce\n",
    "\n",
    "def trailprobability(trail):\n",
    "    prob = 1\n",
    "    for t in trail:\n",
    "        nibs = [(t >> (i*4))&0xf for i in range(16)]\n",
    "        for x in nibs: prob *= ddt[x][DDT_SBOX[x]]/16\n",
    "    return prob\n",
    "\n",
    "def printtrail(trail):\n",
    "    for t in trail:\n",
    "        print(\"\".join(\".1\"[i] for i in tobits(t, 64)))\n",
    "        \n",
    "def getctrecovered(ctdiff):\n",
    "    return set(i for i in range(16) if (ctdiff >> (i*4))&0xf != 0)"
   ]
  },
  {
   "cell_type": "code",
   "execution_count": null,
   "id": "d12a56e7",
   "metadata": {},
   "outputs": [],
   "source": []
  },
  {
   "cell_type": "code",
   "execution_count": 23,
   "id": "cce893b4",
   "metadata": {
    "scrolled": true
   },
   "outputs": [
    {
     "name": "stdout",
     "output_type": "stream",
     "text": [
      "(15, 15)\r"
     ]
    }
   ],
   "source": [
    "from itertools import product\n",
    "\n",
    "# (onein, (ptdiff, ctdiff))\n",
    "goodtrails = [None]*16\n",
    "rejected = []\n",
    "for k0idx in product(range(16), repeat=2):\n",
    "    \n",
    "    for _ptdiff in product(range(1, 16), repeat=2):\n",
    "        ptdiff = 0\n",
    "        for a,b in zip(k0idx, _ptdiff):\n",
    "            ptdiff |= b << (4*a)\n",
    "        ctdiff, prob = encryptblk(ptdiff, 12)\n",
    "\n",
    "        ct_recovered = getctrecovered(ctdiff)\n",
    "        onein = 1/prob\n",
    "        for k in ct_recovered:\n",
    "            kt = goodtrails[k]\n",
    "            if kt is None or kt[0] > onein:\n",
    "                goodtrails[k] = (onein, (ptdiff, ctdiff))\n",
    "                if kt is not None: rejected.append(kt[1][0])\n",
    "\n",
    "        #print(format(j, \"02d\"), \"\".join(\".1\"[i] for i in tobits(ctdiff, 64)), 1/trailprobability(trail))\n",
    "    \n",
    "    print(k0idx, end=\"\\r\")"
   ]
  },
  {
   "cell_type": "code",
   "execution_count": null,
   "id": "1ae592dd",
   "metadata": {},
   "outputs": [],
   "source": []
  },
  {
   "cell_type": "code",
   "execution_count": 22,
   "id": "8f8f9c19",
   "metadata": {},
   "outputs": [],
   "source": [
    "from itertools import product\n",
    "\n",
    "# (onein, (ptdiff, ctdiff))\n",
    "goodtrails = [None]*16\n",
    "rejected = []\n",
    "for _ptdiff in product(range(64), repeat=4):\n",
    "        \n",
    "    ptdiff = 0\n",
    "    for a in _ptdiff:\n",
    "        ptdiff |= 1 << a\n",
    "    ctdiff, prob = encryptblk(ptdiff, 12)\n",
    "\n",
    "    ct_recovered = getctrecovered(ctdiff)\n",
    "    onein = 1/prob\n",
    "    for k in ct_recovered:\n",
    "        kt = goodtrails[k]\n",
    "        if kt is None or kt[0] > onein:\n",
    "            goodtrails[k] = (onein, (ptdiff, ctdiff))\n",
    "            if kt is not None: rejected.append(kt[1][0])\n",
    "\n",
    "    #print(format(j, \"02d\"), \"\".join(\".1\"[i] for i in tobits(ctdiff, 64)), 1/trailprobability(trail))"
   ]
  },
  {
   "cell_type": "code",
   "execution_count": 24,
   "id": "db9d2103",
   "metadata": {},
   "outputs": [
    {
     "data": {
      "text/plain": [
       "[295147905.1793528,\n",
       " 9007199.254740993,\n",
       " 10613340.528852712,\n",
       " 967140.6556917033,\n",
       " 9007199.254740993,\n",
       " 274877.906944,\n",
       " 1093140.3895531585,\n",
       " 57646.07523034235,\n",
       " 15283210.361547904,\n",
       " 910950.3246276322,\n",
       " 549575.0201670253,\n",
       " 97812.54631390658,\n",
       " 967140.6556917033,\n",
       " 57646.07523034235,\n",
       " 117375.05557668791,\n",
       " 12089.258196146291]"
      ]
     },
     "execution_count": 24,
     "metadata": {},
     "output_type": "execute_result"
    }
   ],
   "source": [
    "[onein for onein, (ptdiff, ctdiff) in goodtrails]"
   ]
  },
  {
   "cell_type": "code",
   "execution_count": 21,
   "id": "f0d6ca09",
   "metadata": {},
   "outputs": [
    {
     "data": {
      "text/plain": [
       "[175921.86044416,\n",
       " 17179.869184,\n",
       " 22239.9981598543,\n",
       " 4503.599627370496,\n",
       " 17179.869184,\n",
       " 1677.7216,\n",
       " 4886.718345671111,\n",
       " 687.19476736,\n",
       " 32025.597350190194,\n",
       " 4886.718345671111,\n",
       " 4048.668109456143,\n",
       " 1281.0238940076079,\n",
       " 4503.599627370496,\n",
       " 687.19476736,\n",
       " 1281.0238940076079,\n",
       " 281.474976710656]"
      ]
     },
     "execution_count": 21,
     "metadata": {},
     "output_type": "execute_result"
    }
   ],
   "source": [
    "[onein for onein, (ptdiff, ctdiff) in goodtrails]"
   ]
  },
  {
   "cell_type": "code",
   "execution_count": 90,
   "id": "c4dc97fa",
   "metadata": {},
   "outputs": [
    {
     "name": "stdout",
     "output_type": "stream",
     "text": [
      "...1...........1................................................\n",
      "................................................1..1............\n",
      "............1...................................................\n",
      "...1...............................................1............\n",
      "................................................1...........1...\n",
      "............1..1............................................1..1\n",
      "...1...........1................................................\n",
      "................................................1..1............\n",
      "............1...................................................\n",
      "...1...............................................1............\n",
      "................................................1...........1...\n",
      "............1..1............................................1..1\n"
     ]
    }
   ],
   "source": [
    "printtrail(goodtrails[0][1])"
   ]
  },
  {
   "cell_type": "code",
   "execution_count": null,
   "id": "625837e4",
   "metadata": {},
   "outputs": [],
   "source": []
  }
 ],
 "metadata": {
  "kernelspec": {
   "display_name": "Python 3 (ipykernel)",
   "language": "python",
   "name": "python3"
  },
  "language_info": {
   "codemirror_mode": {
    "name": "ipython",
    "version": 3
   },
   "file_extension": ".py",
   "mimetype": "text/x-python",
   "name": "python",
   "nbconvert_exporter": "python",
   "pygments_lexer": "ipython3",
   "version": "3.8.10"
  }
 },
 "nbformat": 4,
 "nbformat_minor": 5
}
