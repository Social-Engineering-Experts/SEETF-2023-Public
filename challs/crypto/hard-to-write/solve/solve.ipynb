{
 "cells": [
  {
   "cell_type": "markdown",
   "id": "3824a40b",
   "metadata": {},
   "source": [
    "## Find Trails"
   ]
  },
  {
   "cell_type": "code",
   "execution_count": 1,
   "id": "6cc8e0af",
   "metadata": {},
   "outputs": [],
   "source": [
    "import numpy as np\n",
    "import matplotlib.pyplot as plt\n",
    "from itertools import product\n",
    "from functools import reduce\n",
    "import random\n",
    "\n",
    "def get_ddt(sbox):\n",
    "    l = len(sbox)\n",
    "    ddt = np.zeros((l,l), dtype=int)\n",
    "    for i,x in enumerate(sbox):\n",
    "        for j,y in enumerate(sbox):\n",
    "            ddt[i^j][x^y] += 1\n",
    "    return ddt\n",
    "\n",
    "def to_nibbles(pt:bytes):\n",
    "    return [(pt[i]>>(4*j)) & 0xf for i in range(len(pt)) for j in range(2)]\n",
    "\n",
    "def from_nibbles(nibs):\n",
    "    return bytes([nibs[2*i] + (nibs[2*i+1]<<4) for i in range(len(nibs)//2)])\n",
    "\n",
    "def tobits(x:int, nbits:int): \n",
    "    ret = []\n",
    "    for i in range(nbits):\n",
    "        ret.append((x >> i) & 1)\n",
    "    return ret\n",
    "\n",
    "def frombits(bits):\n",
    "    return sum((b<<i) for i,b in enumerate(bits))\n",
    "\n",
    "def toblks(arr, bl:int):\n",
    "    ret = []\n",
    "    for i in range(len(arr)//bl): ret.append(arr[bl*i:bl*i+bl])\n",
    "    return ret\n",
    "\n",
    "PERM = [0, 16, 32, 48, 1, 17, 33, 49, 2, 18, 34, 50, 3, 19, 35, 51, 4, 20, 36, 52, 5, 21, 37, 53, 6, 22, 38, 54, 7, 23, 39, 55, 8, 24, 40, 56, 9, 25, 41, 57, 10, 26, 42, 58, 11, 27, 43, 59, 12, 28, 44, 60, 13, 29, 45, 61, 14, 30, 46, 62, 15, 31, 47, 63]\n",
    "INVPERM = [PERM.index(i) for i in range(64)]\n",
    "SBOX = [3, 10, 6, 8, 15, 1, 13, 4, 11, 2, 5, 0, 7, 14, 9, 12]\n",
    "INVSBOX = [SBOX.index(i) for i in range(16)]\n",
    "PERM = np.array(PERM, dtype=np.uint64)\n",
    "INVPERM = np.array(INVPERM, dtype=np.uint64)\n",
    "SBOX = np.array(SBOX, dtype=np.uint64)\n",
    "INVSBOX = np.array(INVSBOX, dtype=np.uint64)\n",
    "\n",
    "NROUNDS = 14\n",
    "\n",
    "# PTCTDIFF = [(41, [0, 0, 0, 0, 0, 0, 0, 0, 0, 0, 0, 0, 0, 0, 0, 0, 0, 0, 0, 0, 0, 0, 0, 1, 0, 0, 0, 0, 0, 0, 0, 0, 0, 0, 0, 0, 0, 0, 0, 0, 0, 0, 0, 0, 0, 0, 0, 0, 0, 0, 0, 0, 0, 0, 0, 0, 0, 0, 0, 0, 0, 0, 0, 0], [0, 0, 0, 0, 0, 0, 0, 0, 0, 0, 0, 0, 0, 0, 0, 0, 0, 0, 0, 0, 0, 0, 0, 1, 0, 0, 0, 0, 0, 0, 0, 0, 0, 0, 0, 0, 0, 0, 0, 0, 0, 0, 0, 0, 0, 0, 0, 0, 0, 0, 0, 0, 0, 0, 0, 0, 0, 0, 0, 0, 0, 0, 0, 0]),(26, [0, 0, 0, 0, 0, 0, 0, 0, 0, 0, 0, 0, 0, 0, 0, 0, 0, 0, 0, 0, 0, 0, 0, 0, 0, 0, 0, 0, 0, 0, 0, 0, 0, 0, 0, 0, 0, 0, 0, 0, 0, 0, 0, 0, 0, 0, 0, 0, 0, 0, 0, 0, 0, 0, 0, 0, 0, 0, 0, 0, 0, 1, 0, 0], [0, 0, 0, 0, 0, 0, 0, 0, 0, 0, 0, 0, 0, 0, 0, 0, 0, 0, 0, 0, 0, 0, 0, 0, 0, 0, 0, 0, 0, 0, 0, 0, 0, 0, 0, 0, 0, 0, 0, 0, 0, 0, 0, 0, 0, 0, 0, 0, 0, 0, 0, 0, 0, 0, 0, 0, 0, 0, 0, 0, 0, 1, 0, 0]),(26, [0, 0, 0, 0, 0, 0, 0, 0, 0, 0, 0, 0, 0, 0, 0, 0, 0, 0, 0, 0, 0, 0, 0, 0, 0, 0, 0, 0, 0, 0, 0, 1, 0, 0, 0, 0, 0, 0, 0, 0, 0, 0, 0, 0, 0, 0, 0, 0, 0, 0, 0, 0, 0, 0, 0, 0, 0, 0, 0, 0, 0, 0, 0, 0], [0, 0, 0, 0, 0, 0, 0, 0, 0, 0, 0, 0, 0, 0, 0, 0, 0, 0, 0, 0, 0, 0, 0, 0, 0, 0, 0, 0, 0, 0, 0, 1, 0, 0, 0, 0, 0, 0, 0, 0, 0, 0, 0, 0, 0, 0, 0, 0, 0, 0, 0, 0, 0, 0, 0, 0, 0, 0, 0, 0, 0, 0, 0, 0]),(26, [0, 0, 0, 0, 0, 0, 0, 0, 0, 0, 0, 0, 0, 0, 0, 0, 0, 0, 0, 0, 0, 0, 0, 0, 0, 0, 0, 0, 0, 0, 0, 0, 0, 0, 0, 0, 0, 0, 0, 0, 0, 0, 0, 0, 0, 0, 0, 0, 0, 0, 0, 0, 0, 0, 0, 1, 0, 0, 0, 0, 0, 0, 0, 0], [0, 0, 0, 0, 0, 0, 0, 0, 0, 0, 0, 0, 0, 0, 0, 0, 0, 0, 0, 0, 0, 0, 0, 0, 0, 0, 0, 0, 0, 0, 0, 0, 0, 0, 0, 0, 0, 0, 0, 0, 0, 0, 0, 0, 0, 0, 0, 0, 0, 0, 0, 0, 0, 0, 0, 1, 0, 0, 0, 0, 0, 0, 0, 0]),(256, [0, 0, 0, 0, 0, 1, 0, 0, 0, 0, 0, 0, 0, 0, 0, 0, 0, 0, 0, 0, 0, 0, 0, 0, 0, 0, 0, 0, 0, 0, 0, 0, 0, 0, 0, 0, 0, 0, 0, 0, 0, 0, 0, 0, 0, 0, 0, 0, 0, 0, 0, 0, 0, 0, 0, 0, 0, 0, 0, 0, 0, 0, 0, 0], [0, 0, 0, 0, 0, 1, 0, 0, 0, 0, 0, 0, 0, 0, 0, 0, 0, 0, 0, 0, 0, 0, 0, 0, 0, 0, 0, 0, 0, 0, 0, 0, 0, 0, 0, 0, 0, 0, 0, 0, 0, 0, 0, 0, 0, 0, 0, 0, 0, 0, 0, 0, 0, 0, 0, 0, 0, 0, 0, 0, 0, 0, 0, 0]),(131, [0, 0, 0, 0, 0, 0, 0, 0, 0, 0, 0, 0, 0, 0, 0, 0, 0, 0, 0, 0, 0, 0, 0, 0, 0, 0, 0, 0, 0, 0, 0, 0, 0, 0, 0, 0, 0, 0, 0, 0, 0, 0, 0, 0, 0, 0, 0, 0, 0, 1, 0, 0, 0, 0, 0, 0, 0, 0, 0, 0, 0, 1, 0, 0], [0, 0, 0, 0, 0, 0, 0, 0, 0, 0, 0, 0, 0, 0, 0, 0, 0, 0, 0, 0, 0, 0, 0, 0, 0, 0, 0, 0, 0, 0, 0, 0, 0, 0, 0, 0, 0, 0, 0, 0, 0, 0, 0, 0, 0, 0, 0, 0, 0, 1, 0, 0, 0, 0, 0, 0, 0, 0, 0, 0, 0, 1, 0, 0]),(70, [0, 0, 0, 0, 0, 0, 0, 0, 0, 0, 0, 0, 0, 0, 0, 0, 0, 0, 0, 0, 0, 0, 0, 0, 0, 0, 0, 0, 0, 0, 0, 0, 0, 0, 0, 0, 0, 0, 0, 0, 0, 0, 0, 0, 0, 0, 0, 0, 0, 0, 0, 0, 0, 0, 0, 0, 0, 1, 0, 0, 0, 1, 0, 0], [0, 0, 0, 0, 0, 0, 0, 0, 0, 0, 0, 0, 0, 0, 0, 0, 0, 0, 0, 0, 0, 0, 0, 0, 0, 0, 0, 0, 0, 0, 0, 0, 0, 0, 0, 0, 0, 0, 0, 0, 0, 0, 0, 0, 0, 0, 0, 0, 0, 0, 0, 0, 0, 0, 0, 0, 0, 1, 0, 0, 0, 1, 0, 0]),(36, [0, 0, 0, 0, 0, 0, 0, 0, 0, 0, 0, 0, 0, 0, 0, 0, 0, 0, 0, 0, 0, 0, 0, 0, 0, 0, 0, 0, 0, 0, 0, 0, 0, 0, 0, 0, 0, 0, 0, 0, 0, 0, 0, 0, 0, 0, 0, 1, 0, 0, 0, 0, 0, 0, 0, 0, 0, 0, 0, 0, 0, 0, 0, 1], [0, 0, 0, 0, 0, 0, 0, 0, 0, 0, 0, 0, 0, 0, 0, 0, 0, 0, 0, 0, 0, 0, 0, 0, 0, 0, 0, 0, 0, 0, 0, 0, 0, 0, 0, 0, 0, 0, 0, 0, 0, 0, 0, 0, 0, 0, 0, 1, 0, 0, 0, 0, 0, 0, 0, 0, 0, 0, 0, 0, 0, 0, 0, 1]),(131, [0, 0, 0, 0, 0, 0, 0, 0, 0, 0, 0, 0, 0, 0, 0, 0, 0, 0, 0, 1, 0, 0, 0, 0, 0, 0, 0, 0, 0, 0, 0, 0, 0, 0, 0, 0, 0, 0, 0, 0, 0, 0, 0, 0, 0, 0, 0, 0, 0, 0, 0, 0, 0, 0, 0, 0, 0, 0, 0, 0, 0, 0, 0, 0], [0, 0, 0, 0, 0, 0, 0, 0, 0, 0, 0, 0, 0, 0, 0, 0, 0, 0, 0, 1, 0, 0, 0, 0, 0, 0, 0, 0, 0, 0, 0, 0, 0, 0, 0, 0, 0, 0, 0, 0, 0, 0, 0, 0, 0, 0, 0, 0, 0, 0, 0, 0, 0, 0, 0, 0, 0, 0, 0, 0, 0, 0, 0, 0]),(67, [0, 0, 0, 0, 0, 0, 0, 0, 0, 0, 0, 0, 0, 0, 0, 1, 0, 0, 0, 0, 0, 0, 0, 0, 0, 0, 0, 0, 0, 0, 0, 0, 0, 0, 0, 0, 0, 0, 0, 0, 0, 0, 0, 0, 0, 0, 0, 0, 0, 0, 0, 0, 0, 0, 0, 0, 0, 0, 0, 0, 0, 0, 0, 0], [0, 0, 0, 0, 0, 0, 0, 0, 0, 0, 0, 0, 0, 0, 0, 1, 0, 0, 0, 0, 0, 0, 0, 0, 0, 0, 0, 0, 0, 0, 0, 0, 0, 0, 0, 0, 0, 0, 0, 0, 0, 0, 0, 0, 0, 0, 0, 0, 0, 0, 0, 0, 0, 0, 0, 0, 0, 0, 0, 0, 0, 0, 0, 0]),(70, [0, 0, 0, 0, 0, 0, 0, 0, 0, 0, 0, 0, 0, 0, 0, 0, 0, 0, 0, 0, 0, 0, 0, 0, 0, 0, 0, 1, 0, 0, 0, 1, 0, 0, 0, 0, 0, 0, 0, 0, 0, 0, 0, 0, 0, 0, 0, 0, 0, 0, 0, 0, 0, 0, 0, 0, 0, 0, 0, 0, 0, 0, 0, 0], [0, 0, 0, 0, 0, 0, 0, 0, 0, 0, 0, 0, 0, 0, 0, 0, 0, 0, 0, 0, 0, 0, 0, 0, 0, 0, 0, 1, 0, 0, 0, 1, 0, 0, 0, 0, 0, 0, 0, 0, 0, 0, 0, 0, 0, 0, 0, 0, 0, 0, 0, 0, 0, 0, 0, 0, 0, 0, 0, 0, 0, 0, 0, 0]),(137, [0, 0, 0, 0, 0, 0, 0, 0, 0, 0, 0, 0, 0, 0, 0, 0, 0, 0, 0, 0, 0, 0, 0, 0, 0, 0, 0, 0, 0, 0, 0, 0, 0, 0, 0, 0, 0, 1, 0, 0, 0, 0, 0, 0, 0, 0, 0, 0, 0, 0, 0, 0, 0, 0, 0, 0, 0, 0, 0, 0, 0, 0, 0, 0], [0, 0, 0, 0, 0, 0, 0, 0, 0, 0, 0, 0, 0, 0, 0, 0, 0, 0, 0, 0, 0, 0, 0, 0, 0, 0, 0, 0, 0, 0, 0, 0, 0, 0, 0, 0, 0, 1, 0, 0, 0, 0, 0, 0, 0, 0, 0, 0, 0, 0, 0, 0, 0, 0, 0, 0, 0, 0, 0, 0, 0, 0, 0, 0])]"
   ]
  },
  {
   "cell_type": "code",
   "execution_count": 2,
   "id": "9386d69e",
   "metadata": {},
   "outputs": [],
   "source": [
    "threshold = 4\n",
    "ddt = get_ddt(SBOX)\n",
    "ddt_thres = ddt > threshold\n",
    "d = dict([(x,y) for x in range(16) for y in range(16) if ddt_thres[x,y] != 0])\n",
    "DDT_SBOX = np.array([d[i] for i in range(16)], dtype=np.uint64)"
   ]
  },
  {
   "cell_type": "code",
   "execution_count": 3,
   "id": "3688e06f",
   "metadata": {},
   "outputs": [],
   "source": [
    "from numba import jit, uint64, byte, types, float64\n",
    "import sys\n",
    "sys.path.append(\"../src\")\n",
    "from cipher import expandkey, encrypt, decrypt\n",
    "\n",
    "@jit(uint64(byte[:]))\n",
    "def byte2int(blk):\n",
    "    r = 0\n",
    "    for i in range(8):\n",
    "        r += blk[i] << (i*8)\n",
    "    return r\n",
    "\n",
    "@jit(byte[:](uint64))\n",
    "def int2byte(x):\n",
    "    r = np.zeros(8, dtype=np.uint8)\n",
    "    for i in range(8): r[i] = (x >> (i*8))&0xff\n",
    "    return r\n",
    "\n",
    "@jit(uint64[:](byte[:]))\n",
    "def toints(pt):\n",
    "    r = np.zeros(len(pt)//8, dtype=np.uint64)\n",
    "    for i in range(len(pt)//8): r[i] = byte2int(pt[8*i:8*i+8])\n",
    "    return r\n",
    "\n",
    "@jit(uint64(uint64))\n",
    "def sub(p):\n",
    "    r = 0\n",
    "    for i in range(16):\n",
    "        r = r | DDT_SBOX[(p >> (i*4)) & 0xf] << (i*4)\n",
    "    return r\n",
    "\n",
    "@jit(uint64(uint64))\n",
    "def perm(p):\n",
    "    r = 0\n",
    "    for i in range(64):\n",
    "        r |= ((p >> i) & 1) << PERM[i]\n",
    "    return r\n",
    "\n",
    "@jit(types.Tuple((uint64, float64))(uint64, uint64))\n",
    "def encryptblk(p, nrounds):\n",
    "    trailprob = 1.0\n",
    "    for k in range(nrounds):\n",
    "        for i in range(16):\n",
    "            x = (p >> (i*4))&0xf\n",
    "            trailprob *= ddt[x][DDT_SBOX[x]]/16\n",
    "        p = sub(p)\n",
    "        p = perm(p)\n",
    "    p = sub(p)\n",
    "    return p, trailprob\n",
    "\n",
    "def getctrecovered(ctdiff):\n",
    "    return set(i for i in range(16) if (ctdiff >> (i*4))&0xf != 0)"
   ]
  },
  {
   "cell_type": "code",
   "execution_count": 4,
   "id": "335877e4",
   "metadata": {},
   "outputs": [],
   "source": [
    "from itertools import product\n",
    "\n",
    "# (onein, (ptdiff, ctdiff))\n",
    "goodtrails = [None]*16\n",
    "rejected = []\n",
    "for _ptdiff in product(range(64), repeat=2):\n",
    "        \n",
    "    ptdiff = 0\n",
    "    for a in _ptdiff:\n",
    "        ptdiff |= 1 << a\n",
    "    ctdiff, prob = encryptblk(ptdiff, 12)\n",
    "\n",
    "    ct_recovered = getctrecovered(ctdiff)\n",
    "    onein = 1/prob\n",
    "    for k in ct_recovered:\n",
    "        kt = goodtrails[k]\n",
    "        if kt is None or kt[0] > onein:\n",
    "            goodtrails[k] = (onein, (ptdiff, ctdiff))\n",
    "            if kt is not None: rejected.append(kt[1][0])\n",
    "    \n",
    "goodtrails = [(x, tobits(y,64), tobits(z,64)) for x,(y,z) in goodtrails if x < 100000]"
   ]
  },
  {
   "cell_type": "markdown",
   "id": "76e6952a",
   "metadata": {},
   "source": [
    "## Exploit Trails"
   ]
  },
  {
   "cell_type": "code",
   "execution_count": 5,
   "id": "5943aa5d",
   "metadata": {},
   "outputs": [],
   "source": [
    "import os\n",
    "\n",
    "def gen_pairs(ptdiff, npairs):\n",
    "    pairs = os.urandom(8*npairs)\n",
    "    p2 = [*pairs]\n",
    "    for j in range(npairs):\n",
    "        for i,d in enumerate(ptdiff):\n",
    "            if d == 0: continue\n",
    "            p2[j*8 + i // 8] ^= 1 << (i % 8)\n",
    "    return pairs + bytes(p2)\n",
    "\n",
    "def getdistr(arr):\n",
    "    ret = [0]*16\n",
    "    for a in arr: ret[a] += 1\n",
    "    return [r/len(arr) for r in ret]\n",
    "\n",
    "def server_encrypt(sendtoserver):\n",
    "    from nclib import Netcat\n",
    "    nc = Netcat((\"0.0.0.0\", 1337))\n",
    "    r = nc.recvline().strip()[len(\"Encrypted flag: \"):]\n",
    "    encrypted_flag = bytes.fromhex(r.decode())\n",
    "    nc.recvline()\n",
    "    nc.sendline(sendtoserver.hex())\n",
    "    nc.recvline()\n",
    "    enc = nc.recvline().strip()\n",
    "    return encrypted_flag, bytes.fromhex(enc.decode())"
   ]
  },
  {
   "cell_type": "code",
   "execution_count": 6,
   "id": "d184467a",
   "metadata": {},
   "outputs": [
    {
     "name": "stdout",
     "output_type": "stream",
     "text": [
      "Encrypted flag: 44d75f186123acf26b66624af2c95601db77473eadb8f07558853031d807f8fb\n"
     ]
    }
   ],
   "source": [
    "NPAIR = int(10000000 / (16 * len(goodtrails)))\n",
    "sendtoserver = b\"\"\n",
    "for onein, ptd, ctd in goodtrails:\n",
    "    sendtoserver += gen_pairs(ptd, int(NPAIR))\n",
    "encrypted_flag, pairs = server_encrypt(sendtoserver)\n",
    "print(\"Encrypted flag:\", encrypted_flag.hex())\n",
    "\n",
    "# naked_flag = byte2int(np.frombuffer(b'9~FS1idk', dtype=np.uint8))\n",
    "# KEYEX = expandkey(naked_flag ^ randomizer)"
   ]
  },
  {
   "cell_type": "code",
   "execution_count": 7,
   "id": "2dd92a04",
   "metadata": {
    "scrolled": true
   },
   "outputs": [
    {
     "name": "stdout",
     "output_type": "stream",
     "text": [
      "One in 17179.869184, recovers: [1]\n",
      "One in 22239.9981598543, recovers: [2, 3]\n",
      "One in 4503.599627370496, recovers: [3]\n",
      "One in 17179.869184, recovers: [4]\n",
      "One in 1677.7216, recovers: [5]\n",
      "One in 4886.718345671111, recovers: [6]\n",
      "One in 687.19476736, recovers: [7]\n",
      "One in 32025.597350190194, recovers: [8, 11]\n",
      "One in 4886.718345671111, recovers: [9]\n",
      "One in 4048.668109456143, recovers: [10, 11]\n",
      "One in 1281.0238940076079, recovers: [11]\n",
      "One in 4503.599627370496, recovers: [12]\n",
      "One in 687.19476736, recovers: [13]\n",
      "One in 1281.0238940076079, recovers: [14]\n",
      "One in 281.474976710656, recovers: [15]\n"
     ]
    }
   ],
   "source": [
    "kalldistr = []\n",
    "ptr = 0\n",
    "for onein, ptd, ctd in goodtrails:\n",
    "        \n",
    "    enc = pairs[ptr:ptr + NPAIR*8*2]\n",
    "    ptr += NPAIR*8*2\n",
    "    enc = to_nibbles(enc)\n",
    "    lp = len(enc)\n",
    "    enc = [*zip(toblks(enc[:lp//2], 16), toblks(enc[lp//2:], 16))]\n",
    "    \n",
    "    # Get distrib\n",
    "    activect = [frombits(x) for x in toblks(ctd, 4)]\n",
    "    alldistr = {} #\n",
    "    partialdec = lambda c,k: INVSBOX[c^k]\n",
    "    for didx,diff in enumerate(activect):\n",
    "        if diff == 0: continue\n",
    "        _ = []\n",
    "        for kguess in range(16):\n",
    "            cdiff = [partialdec(c1[didx], kguess) ^ partialdec(c2[didx], kguess) for c1,c2 in enc]\n",
    "            _.append(getdistr(cdiff))\n",
    "        alldistr[(didx, diff)] = _\n",
    "    kalldistr.append(alldistr)\n",
    "        \n",
    "    print(f\"One in {onein}, recovers: {[k[0] for k in alldistr.keys()]}\")\n",
    "        \n",
    "    # for (didx, diff), dists in alldistr.items():\n",
    "    #     plt.plot([d[diff] for d in dists])\n",
    "    #     plt.axvline(x = (int(KEYEX[-1]) >> (4*didx))&0xf)\n",
    "    #     plt.show()"
   ]
  },
  {
   "cell_type": "code",
   "execution_count": 8,
   "id": "66cf9e75",
   "metadata": {},
   "outputs": [
    {
     "name": "stdout",
     "output_type": "stream",
     "text": [
      "Number of bits to bruteforce: 4.0\n"
     ]
    }
   ],
   "source": [
    "from math import log2\n",
    "\n",
    "keyrec = [set(range(16)) for _ in range(16)]\n",
    "for l,alldistr in enumerate(kalldistr):\n",
    "\n",
    "    for (didx, diff), dists in alldistr.items():\n",
    "        if len(keyrec[didx]) == 1: continue\n",
    "        d = sorted([(i,d[diff]) for i,d in enumerate(dists)], key=lambda x:-x[1])\n",
    "        dd = [x for _,x in d]\n",
    "        h,l = max(dd),min(dd)\n",
    "        keyrec[didx] &= set(x for x,f in d[:2] if (h-f)/(h-l) < 1/5)\n",
    "\n",
    "# assert all([(int(KEYEX[-1]) >> (i*4))&0xf in k2 for i,k2 in enumerate(keyrec)])\n",
    "assert min(map(len, keyrec)) > 0, \"Rerun trails got wrong\"\n",
    "nbitbrute = sum([log2(len(i)) for i in keyrec])\n",
    "print(\"Number of bits to bruteforce:\", nbitbrute)\n",
    "assert nbitbrute <= 24, \"Rerun lmao not gonna brute that much\""
   ]
  },
  {
   "cell_type": "code",
   "execution_count": 9,
   "id": "df7b26a0",
   "metadata": {},
   "outputs": [
    {
     "name": "stdout",
     "output_type": "stream",
     "text": [
      "0\r",
      "Possible flag: SEE{Sl1dinG_D1ffeR3nt14L_BAb5y:1kcKj}\n"
     ]
    }
   ],
   "source": [
    "from typing import List\n",
    "from itertools import product\n",
    "from numba import jit, njit, byte, uint64, int32\n",
    "import numpy as np\n",
    "\n",
    "INVSBOX = np.array([11, 5, 9, 0, 7, 10, 2, 12, 3, 14, 1, 8, 15, 6, 13, 4], dtype=np.uint64)\n",
    "INVEX = pow(11704981291924017277, -1, 1<<64)\n",
    "\n",
    "@jit(uint64(uint64))\n",
    "def invsub(p:int) -> int:\n",
    "    r = 0\n",
    "    for i in range(16):\n",
    "        r |= INVSBOX[(p >> (i*4)) & 0xf] << (i*4)\n",
    "    return r\n",
    "\n",
    "@jit(uint64(uint64))\n",
    "def unexpandkey(key:int) -> int:\n",
    "    c = key\n",
    "    mask = (1<<64) - 1\n",
    "    for i in range(NROUNDS-1):\n",
    "        c = invsub(c)\n",
    "        c *= INVEX\n",
    "        c &= mask\n",
    "    return c\n",
    "\n",
    "def totoint(key):\n",
    "    r = 0\n",
    "    for i in range(16): r += key[i] << (4*i)\n",
    "    return r\n",
    "\n",
    "pt,ct = (sendtoserver[:8], pairs[:8])\n",
    "\n",
    "candidates = []\n",
    "for i,keytry in enumerate(product(*keyrec)):\n",
    "    k = totoint(keytry)\n",
    "    k = unexpandkey(k)\n",
    "    if encrypt(pt, k) == ct:\n",
    "        print(\"Possible flag:\", \"SEE{\" + decrypt(encrypted_flag, k).decode() + \"}\")\n",
    "        break\n",
    "    if (i % 10000 == 0): print(i, end=\"\\r\")"
   ]
  }
 ],
 "metadata": {
  "kernelspec": {
   "display_name": "Python 3 (ipykernel)",
   "language": "python",
   "name": "python3"
  },
  "language_info": {
   "codemirror_mode": {
    "name": "ipython",
    "version": 3
   },
   "file_extension": ".py",
   "mimetype": "text/x-python",
   "name": "python",
   "nbconvert_exporter": "python",
   "pygments_lexer": "ipython3",
   "version": "3.8.10"
  }
 },
 "nbformat": 4,
 "nbformat_minor": 5
}
