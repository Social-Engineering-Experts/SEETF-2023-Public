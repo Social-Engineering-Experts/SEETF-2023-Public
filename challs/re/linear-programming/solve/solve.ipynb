{
 "cells": [
  {
   "cell_type": "code",
   "execution_count": 1,
   "id": "7c8b24be",
   "metadata": {},
   "outputs": [],
   "source": [
    "import re\n",
    "from functools import reduce\n",
    "from dataclasses import dataclass, field\n",
    "from typing import Set, List\n",
    "\n",
    "def get_coeff(eqnstr):\n",
    "    if eqnstr[0] == '-': eqnstr = \"- \" + eqnstr[1:]\n",
    "    else: eqnstr = \"+ \" + eqnstr\n",
    "    terms = re.findall(r\"([+-][^XY*]+)\", eqnstr.split(\"<=\")[0])\n",
    "    terms = [t+\"1\" if len(t) == 2 else t for t in terms]\n",
    "    terms = [int(i.replace(\" \", \"\")) for i in terms] + [int(eqnstr.split(\"<= \")[-1])]\n",
    "    return tuple(terms)\n",
    "\n",
    "def get_varidx(eqnstr):\n",
    "    return (*map(lambda v: int(v[2:-1]) + (160 if v[0] == \"X\" else 0), re.findall(r\"[XY]\\[\\d+\\]\", eqnstr)),)\n",
    "\n",
    "inputvars = [*range(160)]\n",
    "eqns = [\n",
    "    (\n",
    "        # eqn string\n",
    "        l[9:], \n",
    "        # variables used\n",
    "        get_varidx(l[9:]),\n",
    "        # coefficients\n",
    "        get_coeff(l[9:])\n",
    "        \n",
    "    )\n",
    "    for l in open(\"../dist/crackme.py\").read().split(\"\\n\")\n",
    "    if l[:9] == \"model += \"\n",
    "]"
   ]
  },
  {
   "cell_type": "code",
   "execution_count": 2,
   "id": "76b5c2f5",
   "metadata": {},
   "outputs": [],
   "source": [
    "# Build adjacency\n",
    "nvars = max(max(e[1]) for e in eqns)+1\n",
    "adjeqns = [[] for _ in range(nvars)]\n",
    "for s,vs,cs in eqns:\n",
    "    for v in vs:\n",
    "        adjeqns[v].append((s,vs,cs))\n",
    "adjvars = [reduce(lambda x,y: x|y, (set(vs) for s,vs,cs in a)) for a in adjeqns]"
   ]
  },
  {
   "cell_type": "code",
   "execution_count": 3,
   "id": "e1c2850a",
   "metadata": {},
   "outputs": [],
   "source": [
    "from functools import lru_cache\n",
    "from itertools import product\n",
    "\n",
    "def get_invariant(eqnlist, inpbits):\n",
    "    \n",
    "    # invariant should encode uniquely\n",
    "    # 1. The eqns\n",
    "    # 2. The input and output\n",
    "    # 3. Be comparable\n",
    "    \n",
    "    eqnlist = sorted([*eqnlist], key=lambda e: e[2])\n",
    "    eqninv = tuple([e[2] for e in eqnlist])\n",
    "    \n",
    "    # this will be reference point to define position of input\n",
    "    maxeqn = eqnlist[-1]\n",
    "    \n",
    "    # assert maxeqn contains all variables of concern in the same order        \n",
    "    r = set()\n",
    "    for e in eqnlist:\n",
    "        r |= set(e[1])\n",
    "    assert set(maxeqn[1]) == r\n",
    "    \n",
    "    # Fill in gaps\n",
    "    for i,e in enumerate(eqnlist[:-1]):\n",
    "        necoeff = list(e[2])\n",
    "        j = 0\n",
    "        for x in maxeqn[1]:\n",
    "            if e[1][j] != x:\n",
    "                necoeff.insert(j, 0)\n",
    "                continue\n",
    "            j += 1\n",
    "        eqnlist[i] = (e[0], maxeqn[1], tuple(necoeff))\n",
    "        \n",
    "    assert all(maxeqn[1] == e[1] for e in eqnlist)\n",
    "    eqninv = tuple([e[2] for e in eqnlist])\n",
    "    \n",
    "    # maps inpbits to position in mineqn\n",
    "    inpmap = tuple(sorted([maxeqn[1].index(i) for i in inpbits]))\n",
    "    \n",
    "    # uniquely define order of output bits in mineqn\n",
    "    outmap = tuple(sorted([j for j,i in enumerate(maxeqn[1]) if i not in inpbits]))\n",
    "    \n",
    "    # Construct invariant\n",
    "    return eqnlist, (eqninv, inpmap, outmap)\n",
    "\n",
    "@lru_cache(maxsize=None)\n",
    "def check_concrete_binding(inv):\n",
    "    eqninv, inpmap, outmap = inv\n",
    "    szin,szout = len(inpmap), len(outmap)\n",
    "    sz = szin + szout\n",
    "    for inp in product([0, 1], repeat=szin):\n",
    "        # For each inp there's a unique out\n",
    "        nsat = 0\n",
    "        for out in product([0, 1], repeat=szout):\n",
    "            pt = []; ptr1,ptr2 = 0,0\n",
    "            for i in range(sz):\n",
    "                if i in outmap: \n",
    "                    pt.append(out[ptr1]); ptr1 += 1\n",
    "                    continue\n",
    "                pt.append(inp[ptr2]); ptr2 += 1\n",
    "            allsat = all(\n",
    "                sum(c*p for c,p in zip(e, pt)) <= e[-1]\n",
    "                for e in eqninv\n",
    "            )\n",
    "            nsat += allsat\n",
    "            if nsat > 1: \n",
    "                break\n",
    "        if nsat != 1: return False\n",
    "    return True\n",
    "\n",
    "def bind(invariant, eqnlist):\n",
    "    # Binds input bits and output bits\n",
    "    _, inpmap, outmap = invariant\n",
    "    varidx = next(iter(eqnlist))[1]\n",
    "    assert len(varidx) == len(inpmap) + len(outmap)\n",
    "    inpbits = (*(varidx[i] for i in inpmap),)\n",
    "    outbits = (*(varidx[i] for i in outmap),)\n",
    "    return inpbits, outbits"
   ]
  },
  {
   "cell_type": "code",
   "execution_count": 4,
   "id": "306e94c6",
   "metadata": {},
   "outputs": [
    {
     "name": "stdout",
     "output_type": "stream",
     "text": [
      "7952\r"
     ]
    }
   ],
   "source": [
    "@dataclass\n",
    "class Binding:\n",
    "    invariant: int # Index of invariant in `all_invariant` array\n",
    "    inp: ...\n",
    "    out: ...\n",
    "        \n",
    "@dataclass\n",
    "class Var:\n",
    "    idx:int\n",
    "    binding:Binding # This var is the `output` of this binding\n",
    "    parents:Set[int]\n",
    "    children:Set[int]\n",
    "\n",
    "all_invariant = []\n",
    "all_bindings = []\n",
    "rootidx = [*range(160)]\n",
    "graph = {r: Var(r, None, set(), set()) for r in rootidx}\n",
    "all_layers = [set(rootidx)]\n",
    "terminal_eqns = set(eqns)\n",
    "while True:\n",
    "    ng = graph.copy()\n",
    "    newlayer = set()\n",
    "    for r,rv in graph.items():\n",
    "        \n",
    "        adjidx = adjvars[r]\n",
    "        parentidx = set((p for p in adjidx if p in graph))\n",
    "        childrenidx = adjidx - parentidx\n",
    "        \n",
    "        for childidx in childrenidx:\n",
    "            \n",
    "            soleparents = parentidx & adjvars[childidx]\n",
    "            sharedeqns = reduce(\n",
    "                lambda x,y: x|y, \n",
    "                (\n",
    "                    set(adjeqns[i]) \n",
    "                    for i in soleparents\n",
    "                )\n",
    "            ) & set(adjeqns[childidx])\n",
    "            try: newsharedeqns, sharedeqninv = get_invariant(sharedeqns, soleparents)\n",
    "            except: continue # eh just ignore for now\n",
    "            if check_concrete_binding(sharedeqninv): # Binding!\n",
    "                \n",
    "                # sharedeqns are used to bind new variables, aren't terminal\n",
    "                terminal_eqns -= sharedeqns\n",
    "                \n",
    "                # Create binding\n",
    "                if sharedeqninv not in all_invariant:\n",
    "                    all_invariant.append(sharedeqninv)\n",
    "                    invidx = len(all_invariant) - 1\n",
    "                else:\n",
    "                    invidx = all_invariant.index(sharedeqninv)\n",
    "                inpbits, outbits = bind(sharedeqninv, newsharedeqns)\n",
    "                binding = Binding(\n",
    "                    invidx,\n",
    "                    inpbits,\n",
    "                    outbits\n",
    "                )\n",
    "                all_bindings.append(binding)\n",
    "                \n",
    "                # Save new vars into ng\n",
    "                for c in outbits:\n",
    "                    cv = Var(c, binding, set(inpbits), set())\n",
    "                    for p in soleparents:\n",
    "                        ng[p].children.add(c)\n",
    "                    ng[c] = cv\n",
    "                    newlayer.add(c)\n",
    "                    \n",
    "    if len(graph) == len(ng): break\n",
    "    print(len(ng), end=\"\\r\")\n",
    "    graph = ng\n",
    "    all_layers.append(newlayer)"
   ]
  },
  {
   "cell_type": "code",
   "execution_count": 5,
   "id": "7fe594a9",
   "metadata": {},
   "outputs": [],
   "source": [
    "# Solve terminal vars\n",
    "\n",
    "from mip import Model, CBC, BINARY\n",
    "\n",
    "model = Model(solver_name=CBC)\n",
    "terminalidx = sorted([*reduce(lambda x,y: x|y, [set(e[1]) for e in terminal_eqns])])\n",
    "terminal_vars = {x: model.add_var(var_type=BINARY) for x in terminalidx}\n",
    "\n",
    "# Last layer are all the terminal stuff\n",
    "assert set(terminalidx) == all_layers[-1]\n",
    "\n",
    "for e in terminal_eqns:\n",
    "    varidx, coeff = e[1], e[2]\n",
    "    model += sum(terminal_vars[x]*y for x,y in zip(varidx, coeff[:-1])) <= coeff[-1]\n",
    "    \n",
    "model.verbose = 0\n",
    "assert model.optimize().name == \"OPTIMAL\"\n",
    "terminal_sol = {x:int(v.x) for x,v in terminal_vars.items()}"
   ]
  },
  {
   "cell_type": "code",
   "execution_count": 6,
   "metadata": {},
   "outputs": [
    {
     "data": {
      "text/plain": [
       "165517"
      ]
     },
     "execution_count": 6,
     "metadata": {},
     "output_type": "execute_result"
    }
   ],
   "source": [
    "code = \"\"\n",
    "for i,layer in enumerate(all_layers):\n",
    "    if i == 0: continue\n",
    "    code += f\"# ---- LAYER {i} ----\\n\\n\"\n",
    "    nodes = sorted([graph[j] for j in layer], key=lambda v: v.binding.invariant)\n",
    "    newcode = []\n",
    "    for n in nodes:\n",
    "        b = n.binding\n",
    "        if b.invariant == 0:\n",
    "            nl = f\"v_{b.out[0]} = v_{b.inp[0]} ^ v_{b.inp[1]}\"\n",
    "            if nl not in newcode: newcode.append(nl)\n",
    "        elif b.invariant == 1:\n",
    "            nl = f\"{', '.join('v_%d'%o for o in b.out)} = SUB[({', '.join('v_%d'%i for i in b.inp)})]\"\n",
    "            if nl not in newcode: newcode.append(nl)\n",
    "        else:\n",
    "            raise Exception()\n",
    "    code += \"\\n\".join(newcode) + \"\\n\\n\\n\"\n",
    "    \n",
    "for i,v in terminal_sol.items():\n",
    "    code += f\"assert v_{i} == {v}\\n\"\n",
    "    \n",
    "open(\"code.txt\", \"w\").write(code)"
   ]
  },
  {
   "cell_type": "code",
   "execution_count": 7,
   "id": "0cbf0a9b",
   "metadata": {},
   "outputs": [],
   "source": [
    "def gen_subbox(inv):\n",
    "    \n",
    "    eqninv, inpmap, outmap = inv\n",
    "    sub = {}\n",
    "    szin,szout = len(inpmap), len(outmap)\n",
    "    sz = szin + szout\n",
    "    for inp in product([0, 1], repeat=szin):\n",
    "        # For each inp there's a unique out\n",
    "        for out in product([0, 1], repeat=szout):\n",
    "            pt = []; ptr1,ptr2 = 0,0\n",
    "            for i in range(sz):\n",
    "                if i in outmap: \n",
    "                    pt.append(out[ptr1]); ptr1 += 1\n",
    "                    continue\n",
    "                pt.append(inp[ptr2]); ptr2 += 1\n",
    "            allsat = all(\n",
    "                sum(c*p for c,p in zip(e, pt)) <= e[-1]\n",
    "                for e in eqninv\n",
    "            )\n",
    "            if allsat: \n",
    "                sub[inp] = out\n",
    "                break       \n",
    "    return sub"
   ]
  },
  {
   "cell_type": "code",
   "execution_count": 8,
   "id": "940b5411",
   "metadata": {},
   "outputs": [
    {
     "name": "stdout",
     "output_type": "stream",
     "text": [
      "INVARIANT:  0\n",
      "(0, 0) : (0,)\n",
      "(0, 1) : (1,)\n",
      "(1, 0) : (1,)\n",
      "(1, 1) : (0,)\n",
      "INVARIANT:  1\n",
      "(0, 0, 0, 0) : (0, 0, 1, 1)\n",
      "(0, 0, 0, 1) : (1, 1, 0, 0)\n",
      "(0, 0, 1, 0) : (1, 0, 0, 1)\n",
      "(0, 0, 1, 1) : (0, 0, 1, 0)\n",
      "(0, 1, 0, 0) : (0, 1, 1, 0)\n",
      "(0, 1, 0, 1) : (1, 1, 1, 1)\n",
      "(0, 1, 1, 0) : (0, 1, 0, 1)\n",
      "(0, 1, 1, 1) : (1, 0, 0, 0)\n",
      "(1, 0, 0, 0) : (1, 0, 1, 0)\n",
      "(1, 0, 0, 1) : (0, 1, 1, 1)\n",
      "(1, 0, 1, 0) : (0, 0, 0, 0)\n",
      "(1, 0, 1, 1) : (1, 1, 1, 0)\n",
      "(1, 1, 0, 0) : (1, 1, 0, 1)\n",
      "(1, 1, 0, 1) : (0, 0, 0, 1)\n",
      "(1, 1, 1, 0) : (1, 0, 1, 1)\n",
      "(1, 1, 1, 1) : (0, 1, 0, 0)\n"
     ]
    }
   ],
   "source": [
    "all_subbox = [*map(gen_subbox, all_invariant)]\n",
    "for i,subbox in enumerate(all_subbox):\n",
    "    print(\"INVARIANT: \", i)\n",
    "    print(\"\\n\".join(str(i) + \" : \" + str(j) for i,j in subbox.items()))\n",
    "    \n",
    "# INVARIANT 1 is just XOR\n",
    "# INVARIANT 2 is idk take it as a subbox"
   ]
  },
  {
   "cell_type": "code",
   "execution_count": 9,
   "id": "557038b2",
   "metadata": {},
   "outputs": [],
   "source": [
    "def backslice(idx, visited=None):\n",
    "    \n",
    "    if visited is None: visited = set()\n",
    "    if idx in visited: return set()\n",
    "    visited.add(idx)\n",
    "    \n",
    "    # root node\n",
    "    parents = graph[idx].parents\n",
    "    if len(parents) == 0: return set([idx])\n",
    "    \n",
    "    ret = set()\n",
    "    for p in parents:\n",
    "        ret |= backslice(p, visited)\n",
    "    \n",
    "    return ret\n",
    "\n",
    "terminal_backslice = set(tuple(sorted(x)) for x in map(backslice, terminalidx))\n",
    "assert len(terminal_backslice) == 2\n",
    "assert terminal_backslice == set((tuple(range(80)), tuple(range(80,160))))"
   ]
  },
  {
   "cell_type": "code",
   "execution_count": 10,
   "id": "32387479",
   "metadata": {},
   "outputs": [],
   "source": [
    "def backslice_to_layer(idx, layeridx, visited=None):\n",
    "    \n",
    "    if visited is None: visited = set()\n",
    "    if idx in visited: return set()\n",
    "    visited.add(idx)\n",
    "    \n",
    "    # root node\n",
    "    for l in range(layeridx+1):\n",
    "        if idx in all_layers[l]: \n",
    "            return set([idx])\n",
    "    \n",
    "    ret = set()\n",
    "    parents = graph[idx].parents\n",
    "    for p in parents:\n",
    "        ret |= backslice_to_layer(p, layeridx, visited)\n",
    "    \n",
    "    return ret"
   ]
  },
  {
   "cell_type": "code",
   "execution_count": 11,
   "id": "992ea22b",
   "metadata": {},
   "outputs": [],
   "source": [
    "layer1 = [idx for idx in [i for i in all_layers[1] if max(backslice(i)) < 80]]\n",
    "nodes = [(n,graph[n]) for n in layer1]\n",
    "nxor = [(n,k) for n,k in nodes if len(k.binding.out) == 1]\n",
    "nsub = [(n,k) for n,k in nodes if len(k.binding.out) == 4]\n",
    "assert len(layer1) == len(nxor) + len(nsub)\n",
    "nxor = sorted(nxor, key=lambda n: [*n[1].binding.inp][::-1])\n",
    "nsub = sorted(nsub, key=lambda n: ([*n[1].binding.inp][::-1], 3-n[1].binding.out.index(n[0])))\n",
    "layer1_sym =  [(n[0], f\"A_{format(idx, '04d')}\") for idx,n in enumerate(nxor)]\n",
    "layer1_sym += [(n[0], f\"B_{format(idx, '04d')}\") for idx,n in enumerate(nsub)]\n",
    "layer1_sym = dict(layer1_sym)\n",
    "\n",
    "assert len(set(layer1_sym.values())) == len(layer1)\n",
    "\n",
    "def symbolize(idx):\n",
    "    if idx in all_layers[0]: return f\"input_{idx}\"\n",
    "    if idx in all_layers[1]: return layer1_sym[idx]\n",
    "    return f\"V_{format(idx, '04d')}\""
   ]
  },
  {
   "cell_type": "code",
   "execution_count": 12,
   "id": "baf4c6b0",
   "metadata": {},
   "outputs": [],
   "source": [
    "def layer_to_str(idx):\n",
    "    layer = [idx for idx in [i for i in all_layers[idx] if max(backslice(i)) < 80]]\n",
    "    nodes = sorted([graph[j] for j in layer], key=lambda v: v.binding.invariant)\n",
    "    newcode = []\n",
    "    for n in nodes:\n",
    "        b = n.binding\n",
    "        if b.invariant == 0:\n",
    "            nl = f\"{symbolize(b.out[0])} = {symbolize(b.inp[0])} ^ {symbolize(b.inp[1])}\"\n",
    "            if nl not in newcode: newcode.append(nl)\n",
    "        elif b.invariant == 1:\n",
    "            nl = f\"{', '.join(symbolize(o) for o in b.out)} = SUB[({', '.join(symbolize(i) for i in b.inp)})]\"\n",
    "            if nl not in newcode: newcode.append(nl)\n",
    "        else:\n",
    "            raise Exception()\n",
    "    return \"\\n\".join(sorted(newcode, key = lambda x: (len(str(x)), x)))"
   ]
  },
  {
   "cell_type": "code",
   "execution_count": 13,
   "id": "01b4f48d",
   "metadata": {},
   "outputs": [],
   "source": [
    "layer2 = [idx for idx in [i for i in all_layers[2] if max(backslice(i)) < 80]]\n",
    "nodes = [(n,graph[n]) for n in layer2]\n",
    "nsub1 = [(n,k) for n,k in nodes if len(k.binding.out) == 4 and min(k.binding.inp) >= 160]\n",
    "nsub2 = [(n,k) for n,k in nodes if len(k.binding.out) == 4 and min(k.binding.inp) < 160]\n",
    "assert len(layer2) == len(nsub1) + len(nsub2)\n",
    "nsub1 = sorted(nsub1, key=lambda n: ([*map(symbolize, n[1].binding.inp)][::-1], 3-n[1].binding.out.index(n[0])))\n",
    "nsub2 = sorted(nsub2, key=lambda n: ([*map(symbolize, n[1].binding.inp)][::-1], 3-n[1].binding.out.index(n[0])))\n",
    "layer2_sym =  [(n[0], f\"C_{format(idx, '04d')}\") for idx,n in enumerate(nsub1)]\n",
    "layer2_sym += [(n[0], f\"D_{format(idx, '04d')}\") for idx,n in enumerate(nsub2)]\n",
    "layer2_sym = dict(layer2_sym)\n",
    "\n",
    "assert len(set(layer2_sym.values())) == len(layer2)\n",
    "\n",
    "def symbolize(idx):\n",
    "    if idx in all_layers[0]: return f\"input_{idx}\"\n",
    "    if idx in all_layers[1]: return layer1_sym[idx]\n",
    "    if idx in all_layers[2]: return layer2_sym[idx]\n",
    "    return f\"V_{format(idx, '04d')}\""
   ]
  },
  {
   "cell_type": "code",
   "execution_count": 14,
   "id": "84d55737",
   "metadata": {},
   "outputs": [
    {
     "data": {
      "text/plain": [
       "85981"
      ]
     },
     "execution_count": 14,
     "metadata": {},
     "output_type": "execute_result"
    }
   ],
   "source": [
    "code = \"\"\n",
    "for l in range(len(all_layers)):\n",
    "    if l == 0: continue\n",
    "    code += f\"# --- LAYER {l} ----\\n\\n\"\n",
    "    code += layer_to_str(l)\n",
    "    code += \"\\n\\n\"\n",
    "    \n",
    "open(\"code_symbolised.txt\", \"w\").write(code)"
   ]
  },
  {
   "cell_type": "code",
   "execution_count": 15,
   "id": "9ab3c2dd",
   "metadata": {},
   "outputs": [],
   "source": [
    "# Split the layers into each subgraph\n",
    "all_layers1 = [\n",
    "    set(n for n in l if not (max(backslice(n))) >= 80)\n",
    "    for l in all_layers\n",
    "]\n",
    "all_layers2 = [\n",
    "    l - l1\n",
    "    for l1,l in zip(all_layers1, all_layers)\n",
    "]"
   ]
  },
  {
   "cell_type": "code",
   "execution_count": 16,
   "id": "7c4b8959",
   "metadata": {},
   "outputs": [
    {
     "name": "stdout",
     "output_type": "stream",
     "text": [
      "Flag: SEE{sT1lL_Us!nG_pR3&ENt?}\n"
     ]
    }
   ],
   "source": [
    "def gen_brute(all_layers1, start):\n",
    "    \n",
    "    # Traverse down from input[64:80] to see what can be derived given them\n",
    "\n",
    "    start6480 = [start]\n",
    "    ops_start6480 = []\n",
    "    known6480 = set(start6480[-1])\n",
    "    for i,l in enumerate(all_layers1):\n",
    "        if i == 0: continue\n",
    "        pl = start6480[-1]\n",
    "        ns = []\n",
    "        for n in l:\n",
    "            if n in known6480: continue\n",
    "            node = graph[n]\n",
    "            parents = node.binding.inp\n",
    "            if not set(parents).issubset(pl | known6480): continue\n",
    "            ns.append(n)\n",
    "            inv = node.binding.invariant\n",
    "            if inv == 0:\n",
    "                ops_start6480.append(f\"X[{n}] = X[{parents[0]}] ^ X[{parents[1]}]\")\n",
    "                known6480.add(n)\n",
    "            elif inv == 1:\n",
    "                outstr = \",\".join(f\"X[{i}]\" for i in node.binding.out)\n",
    "                instr = \",\".join(f\"X[{i}]\" for i in node.binding.inp)\n",
    "                ops_start6480.append(f\"{outstr} = SUB[({instr})]\")\n",
    "                known6480 |= set(node.binding.out)\n",
    "            else: raise Exception()\n",
    "        start6480.append(set(ns))\n",
    "        \n",
    "    \n",
    "    # Traverse up from all_layers1[-1] to see what can be derived given them\n",
    "\n",
    "    invlayers = all_layers1[::-1]\n",
    "    ops_end6480 = []\n",
    "    done = set()\n",
    "    for i,l in enumerate(invlayers):\n",
    "        if i == len(invlayers) - 1: continue\n",
    "\n",
    "        for n in l:\n",
    "            node = graph[n]\n",
    "            binding = node.binding\n",
    "            if binding.invariant == 0:\n",
    "                diff = set(binding.inp) - (l | known6480)\n",
    "                if len(diff) == 2: continue\n",
    "                if len(diff) == 0: continue\n",
    "                newnode = next(iter(diff))\n",
    "                knownnode = next(iter(set(binding.inp) - diff))\n",
    "                if newnode in done: continue\n",
    "                done.add(newnode)\n",
    "                ops_end6480.append(f\"X[{newnode}] = X[{n}] ^ X[{knownnode}]\")\n",
    "            elif binding.invariant == 1:\n",
    "                if not set(binding.out).issubset(l | known6480): continue\n",
    "                if len(set(binding.inp) - known6480) < 4: continue\n",
    "                if set(binding.inp).issubset(done): continue\n",
    "                done |= set(binding.inp)\n",
    "                outstr = \",\".join(f\"X[{i}]\" for i in node.binding.out)\n",
    "                instr = \",\".join(f\"X[{i}]\" for i in node.binding.inp)\n",
    "                ops_end6480.append(f\"{instr} = INVSUB[({outstr})]\")\n",
    "            else: raise Exception()\n",
    "        \n",
    "    tsol = dict([(t,terminal_sol[t]) for t in all_layers1[-1]])\n",
    "        \n",
    "    # generate bruteforce code\n",
    "    template = open(\"brute-template.txt\").read()\n",
    "    template = template.replace(\"~~NVARS~~\", str(nvars))\n",
    "    template = template.replace(\"~~START~~\", str(min(start)))\n",
    "    template = template.replace(\"~~TERMINALSOL~~\", str(tsol))\n",
    "    template = template.replace(\"~~PTST~~\", str(0 if min(start) == 64 else 80))\n",
    "    template = template.replace(\"~~PTEND~~\", str(80 if min(start) == 64 else 160))\n",
    "    template = template.replace(\"~~PROPAGATEFORWARD~~\", \"\\n\".join(\"    \" + o for o in ops_start6480))\n",
    "    template = template.replace(\"~~PROPAGATEBACKWARD~~\", \"\\n\".join(\"    \" + o for o in ops_end6480))\n",
    "    open(\"brute.py\", \"w\").write(template)\n",
    "    \n",
    "import subprocess\n",
    "gen_brute(all_layers1, set(range(64,80)))\n",
    "flag = subprocess.check_output(['pypy', 'brute.py']).strip()\n",
    "gen_brute(all_layers2, set(range(144,160)))\n",
    "flag += subprocess.check_output(['pypy', 'brute.py']).strip()\n",
    "\n",
    "print(\"Flag: SEE{\" + flag.decode() + \"}\")"
   ]
  },
  {
   "cell_type": "code",
   "execution_count": null,
   "id": "bd69d305",
   "metadata": {},
   "outputs": [],
   "source": []
  },
  {
   "cell_type": "markdown",
   "metadata": {},
   "source": [
    "# Ignore from here!"
   ]
  },
  {
   "cell_type": "code",
   "execution_count": 290,
   "id": "f6a333d5",
   "metadata": {},
   "outputs": [
    {
     "data": {
      "text/plain": [
       "'64 77 78 79'"
      ]
     },
     "execution_count": 290,
     "metadata": {},
     "output_type": "execute_result"
    }
   ],
   "source": [
    "\" \".join(map(str, backslice(4198)))"
   ]
  },
  {
   "cell_type": "code",
   "execution_count": 205,
   "id": "98c11658",
   "metadata": {},
   "outputs": [],
   "source": [
    "from z3 import *\n",
    "def boolexpr_from_truth_table(inp, out, var):\n",
    "    nv = len(inp[0])\n",
    "    expr = z3.BoolVal(False)\n",
    "    for i,o in zip(inp, out):\n",
    "        if o == 0: continue\n",
    "        expr = Or(expr, And([x if v else Not(x) for x,v in zip(var, i)]))\n",
    "    return simplify(expr)\n",
    "\n",
    "def boolexpr_from_subbox(subbox, var):\n",
    "    nout = len(next(iter(subbox.values())))\n",
    "    ret = []\n",
    "    io = [*subbox.items()]\n",
    "    i = [x for x,y in io]\n",
    "    oall = [y for x,y in io]\n",
    "    for oidx in range(nout):\n",
    "        o = [y[oidx] for y in oall]\n",
    "        ret.append(boolexpr_from_truth_table(i,o,var))\n",
    "    return ret"
   ]
  },
  {
   "cell_type": "code",
   "execution_count": 304,
   "id": "ce5b4bdb",
   "metadata": {},
   "outputs": [
    {
     "data": {
      "text/plain": [
       "{(0, 0, 0, 0): (0, 0, 1, 1),\n",
       " (0, 0, 0, 1): (1, 1, 0, 0),\n",
       " (0, 0, 1, 0): (1, 0, 0, 1),\n",
       " (0, 0, 1, 1): (0, 0, 1, 0),\n",
       " (0, 1, 0, 0): (0, 1, 1, 0),\n",
       " (0, 1, 0, 1): (1, 1, 1, 1),\n",
       " (0, 1, 1, 0): (0, 1, 0, 1),\n",
       " (0, 1, 1, 1): (1, 0, 0, 0),\n",
       " (1, 0, 0, 0): (1, 0, 1, 0),\n",
       " (1, 0, 0, 1): (0, 1, 1, 1),\n",
       " (1, 0, 1, 0): (0, 0, 0, 0),\n",
       " (1, 0, 1, 1): (1, 1, 1, 0),\n",
       " (1, 1, 0, 0): (1, 1, 0, 1),\n",
       " (1, 1, 0, 1): (0, 0, 0, 1),\n",
       " (1, 1, 1, 0): (1, 0, 1, 1),\n",
       " (1, 1, 1, 1): (0, 1, 0, 0)}"
      ]
     },
     "execution_count": 304,
     "metadata": {},
     "output_type": "execute_result"
    }
   ],
   "source": [
    "inv1subbox"
   ]
  },
  {
   "cell_type": "code",
   "execution_count": null,
   "id": "eae5f023",
   "metadata": {},
   "outputs": [],
   "source": []
  },
  {
   "cell_type": "code",
   "execution_count": null,
   "id": "67362a6d",
   "metadata": {},
   "outputs": [],
   "source": []
  },
  {
   "cell_type": "code",
   "execution_count": null,
   "id": "3798e167",
   "metadata": {},
   "outputs": [],
   "source": []
  },
  {
   "cell_type": "code",
   "execution_count": 292,
   "id": "4930caca",
   "metadata": {},
   "outputs": [
    {
     "name": "stdout",
     "output_type": "stream",
     "text": [
      "59\r"
     ]
    }
   ],
   "source": [
    "z3vars = [*[Bool(\"v%d\"%n) for n in range(160)], *[None for _ in range(nvars - 160)]]\n",
    "inv1subbox = all_subbox[1]\n",
    "\n",
    "for i,layer in enumerate(all_layers):\n",
    "    if i == 0: continue\n",
    "    nodes = [graph[j] for j in layer]\n",
    "    for n in nodes:\n",
    "        b = n.binding\n",
    "        if b.invariant == 0:\n",
    "            z3vars[b.out[0]] = Xor(z3vars[b.inp[0]], z3vars[b.inp[1]])\n",
    "        elif b.invariant == 1:\n",
    "            newexpr = boolexpr_from_subbox(inv1subbox, [z3vars[i] for i in b.inp])\n",
    "            for e,o in zip(newexpr, b.out):\n",
    "                z3vars[o] = e\n",
    "        else:\n",
    "            raise Exception()\n",
    "    print(i, end=\"\\r\")"
   ]
  },
  {
   "cell_type": "code",
   "execution_count": 293,
   "id": "25293b1e",
   "metadata": {},
   "outputs": [
    {
     "name": "stdout",
     "output_type": "stream",
     "text": [
      "Checking!\n"
     ]
    },
    {
     "data": {
      "text/html": [
       "<b>sat</b>"
      ],
      "text/plain": [
       "sat"
      ]
     },
     "execution_count": 293,
     "metadata": {},
     "output_type": "execute_result"
    }
   ],
   "source": [
    "s = Solver()\n",
    "for i,v in terminal_sol.items():\n",
    "    s.add(z3vars[i] == Bool(bool(v)))\n",
    "    \n",
    "print(\"Checking!\")\n",
    "s.check()"
   ]
  },
  {
   "cell_type": "code",
   "execution_count": 299,
   "id": "3f16fd9f",
   "metadata": {},
   "outputs": [
    {
     "data": {
      "text/plain": [
       "b'a\\x0bj\\xd8\\xb7\\xfe\\x9f\\x91:2\\xc9\\xb3\\x13\\xaf$\\xff\\x0c8\\x0b\\xda'"
      ]
     },
     "execution_count": 299,
     "metadata": {},
     "output_type": "execute_result"
    }
   ],
   "source": [
    "m = s.model()\n",
    "\n",
    "def bytes_to_bits(pt):\n",
    "    return [*map(int, \"\".join(format(c, \"08b\") for c in pt))]\n",
    "\n",
    "def bits_to_bytes(pt):\n",
    "    return bytes([int(\"\".join(map(str, pt[8*i:8*i+8])), 2) for i in range(len(pt)//8)])\n",
    "\n",
    "bits_to_bytes([int(eval(str(m[v]))) for v in z3vars[:160]])"
   ]
  },
  {
   "cell_type": "code",
   "execution_count": null,
   "id": "f9942d3b",
   "metadata": {},
   "outputs": [],
   "source": []
  },
  {
   "cell_type": "code",
   "execution_count": null,
   "id": "245e0561",
   "metadata": {},
   "outputs": [],
   "source": []
  },
  {
   "cell_type": "code",
   "execution_count": null,
   "id": "6c68538e",
   "metadata": {},
   "outputs": [],
   "source": []
  },
  {
   "cell_type": "code",
   "execution_count": 413,
   "id": "9473eab4",
   "metadata": {},
   "outputs": [],
   "source": [
    "code = \"\"\n",
    "for i,layer in enumerate(all_layers):\n",
    "    if i == 0: continue\n",
    "    code += f\"# ---- LAYER {i} ----\\n\\n\"\n",
    "    nodes = sorted([graph[j] for j in layer], key=lambda v: v.binding.invariant)\n",
    "    newcode = []\n",
    "    for n in nodes:\n",
    "        b = n.binding\n",
    "        if b.invariant == 0:\n",
    "            nl = f\"v_{b.out[0]} = v_{b.inp[0]} ^ v_{b.inp[1]}\"\n",
    "            if nl not in newcode: newcode.append(nl)\n",
    "        elif b.invariant == 1:\n",
    "            nl = f\"{', '.join('v_%d'%o for o in b.out)} = SUB[({', '.join('v_%d'%i for i in b.inp)})]\"\n",
    "            if nl not in newcode: newcode.append(nl)\n",
    "        else:\n",
    "            raise Exception()\n",
    "    code += \"\\n\".join(newcode) + \"\\n\\n\\n\"\n",
    "    \n",
    "for i,v in terminal_sol.items():\n",
    "    code += f\"assert v_{i} == {v}\\n\""
   ]
  },
  {
   "cell_type": "code",
   "execution_count": 414,
   "id": "e81ae28a",
   "metadata": {},
   "outputs": [
    {
     "data": {
      "text/plain": [
       "165517"
      ]
     },
     "execution_count": 414,
     "metadata": {},
     "output_type": "execute_result"
    }
   ],
   "source": [
    "open(\"log\", \"w\").write(code)"
   ]
  },
  {
   "cell_type": "code",
   "execution_count": 228,
   "id": "f918d8b8",
   "metadata": {},
   "outputs": [
    {
     "data": {
      "text/plain": [
       "732626"
      ]
     },
     "execution_count": 228,
     "metadata": {},
     "output_type": "execute_result"
    }
   ],
   "source": [
    "# Visualise first few layers\n",
    "from pydot import graph_from_dot_data\n",
    "from graphviz import Digraph\n",
    "\n",
    "nlayers = 7\n",
    "\n",
    "roots = set(range(64, 80))\n",
    "cutlayers = [roots]\n",
    "for l in all_layers[1:nlayers]:\n",
    "    cutlayers.append(set([\n",
    "        n\n",
    "        for n in l\n",
    "        if len(graph[n].parents & cutlayers[-1]) != 0\n",
    "    ]))\n",
    "\n",
    "vis = Digraph()\n",
    "for i,l in enumerate(cutlayers):\n",
    "    for n in l:\n",
    "        vis.node(str(n), str(n))\n",
    "    if i == 0: continue\n",
    "    for n in l:\n",
    "        parents = graph[n].parents\n",
    "        for p in parents:\n",
    "            vis.edge(str(p), str(n))\n",
    "            \n",
    "gvis = graph_from_dot_data(vis.source)[0]\n",
    "svg = gvis.create_svg()\n",
    "open(\"dependency.svg\", \"wb\").write(svg)"
   ]
  },
  {
   "cell_type": "code",
   "execution_count": null,
   "id": "dfc8d68a",
   "metadata": {
    "scrolled": true
   },
   "outputs": [],
   "source": []
  },
  {
   "cell_type": "code",
   "execution_count": null,
   "id": "0a4e7330",
   "metadata": {},
   "outputs": [],
   "source": []
  },
  {
   "cell_type": "code",
   "execution_count": null,
   "id": "1fba60af",
   "metadata": {},
   "outputs": [],
   "source": [
    "# -2*X[7404] + X[1113] + 6*X[3995] - 13*X[6753] <= 20"
   ]
  },
  {
   "cell_type": "code",
   "execution_count": null,
   "id": "eaa75687",
   "metadata": {},
   "outputs": [],
   "source": []
  },
  {
   "cell_type": "code",
   "execution_count": 252,
   "id": "faafd2b6",
   "metadata": {},
   "outputs": [
    {
     "data": {
      "text/plain": [
       "Var(idx=3995, binding=Binding(invariant=1, inp=(3970, 7774, 4275, 6118), out=(7247, 3995, 1856, 3709)), parents={3970, 4275, 6118, 7774}, children={2593})"
      ]
     },
     "execution_count": 252,
     "metadata": {},
     "output_type": "execute_result"
    }
   ],
   "source": [
    "graph[3995]"
   ]
  },
  {
   "cell_type": "code",
   "execution_count": null,
   "id": "9a024523",
   "metadata": {},
   "outputs": [],
   "source": []
  },
  {
   "cell_type": "code",
   "execution_count": 183,
   "id": "c48ee12d",
   "metadata": {},
   "outputs": [],
   "source": [
    "# Build dependency graph\n",
    "\n",
    "@dataclass\n",
    "class Var:\n",
    "    idx:int\n",
    "    parents:Set[int] = field(default_factory = lambda:set())\n",
    "    children:Set[int] = field(default_factory = lambda:set())\n",
    "\n",
    "rootidx = [*range(160)]\n",
    "graph = {r: Var(r) for r in rootidx}\n",
    "\n",
    "while True:\n",
    "    ng = graph.copy()\n",
    "    for r,rv in graph.items():\n",
    "        cidx = adjvars[r]\n",
    "        cidx = set(c for c in cidx if c not in graph) # no circular dep\n",
    "        rv.children |= cidx\n",
    "        for c in cidx:\n",
    "            if c in ng: cv = ng[c]\n",
    "            else: cv = Var(c)\n",
    "            cv.parents.add(r)\n",
    "            ng[c] = cv\n",
    "    if len(graph) == len(ng): break\n",
    "    graph = ng"
   ]
  },
  {
   "cell_type": "code",
   "execution_count": 21,
   "id": "cb47f685",
   "metadata": {},
   "outputs": [
    {
     "data": {
      "text/plain": [
       "469614"
      ]
     },
     "execution_count": 21,
     "metadata": {},
     "output_type": "execute_result"
    }
   ],
   "source": [
    "from pydot import graph_from_dot_data\n",
    "from graphviz import Digraph\n",
    "\n",
    "# Plot dependency graph\n",
    "\n",
    "vis = Digraph()\n",
    "stack = rootidx.copy()\n",
    "visited = set()\n",
    "while len(stack) != 0:\n",
    "    \n",
    "    r = stack.pop(0)\n",
    "    if r in visited: continue\n",
    "    visited.add(r)\n",
    "    vis.node(str(r), str(r))\n",
    "    \n",
    "    childs = graph[r].children\n",
    "    for c in childs:\n",
    "        vis.edge(str(c), str(r))\n",
    "        stack.append(c)\n",
    "        \n",
    "open(\"dependency-graph.dot\", \"w\").write(vis.source)"
   ]
  },
  {
   "cell_type": "code",
   "execution_count": null,
   "id": "93f71cf8",
   "metadata": {},
   "outputs": [],
   "source": []
  },
  {
   "cell_type": "code",
   "execution_count": null,
   "id": "0b9ebf57",
   "metadata": {},
   "outputs": [],
   "source": []
  },
  {
   "cell_type": "code",
   "execution_count": null,
   "id": "25c4e88e",
   "metadata": {},
   "outputs": [],
   "source": []
  },
  {
   "cell_type": "code",
   "execution_count": 185,
   "id": "6e1dcff0",
   "metadata": {},
   "outputs": [
    {
     "name": "stdout",
     "output_type": "stream",
     "text": [
      "Var(idx=64, parents=set(), children={3593, 6922, 2832, 7188, 4374, 7704, 5657, 3356, 6943, 1312, 7455, 292, 5415, 1326, 3631, 1585, 4408, 3130, 7740, 1340, 3135, 3649, 1347, 5189, 2629, 1351, 328, 3145, 585, 3831, 4935, 2381, 6740, 2135, 4953, 3163, 5215, 1889, 4449, 4707, 7521, 4198, 4711, 3179, 6764, 623, 624, 3440, 635, 3453, 5248, 1153, 6274, 6275, 644, 4229, 6792, 3721, 1928, 5260, 5778, 3987, 1686, 1687, 1692, 6812, 422, 3497, 2730, 4779, 6572, 434, 4789, 4790, 7863, 4533, 6073, 959, 7875, 7625, 1739, 204, 2766, 214, 727, 473, 3291, 5852, 2526, 5094, 7655, 744, 4585, 5357, 750, 1783})\n",
      "Var(idx=3593, parents={64, 77, 78, 79}, children={5397, 6937, 1786, 6044, 1437, 7071, 1567, 4257, 2850, 6180, 168, 6185, 3370, 6443, 1454, 2609, 7603, 5941, 2998, 2489, 6458, 3129, 1601, 5073, 3030, 2138, 7775, 2915, 356, 3174, 5998, 4720, 5108, 757, 4981, 4474, 2299, 381})\n",
      "8\t10*X[7465] - 12*X[3433] + 4*X[7495] + 7*X[6114] + 2*Y[64] - 6*Y[79] - Y[78] + 13*Y[77] <= 16\n",
      "8\t3*X[7465] + 9*X[3433] + 7*X[7495] + 5*X[6114] - Y[64] - 4*Y[79] + 2*Y[78] - 8*Y[77] <= 12\n",
      "8\t-6*X[7465] + X[3433] - 3*X[7495] - X[6114] - 2*Y[64] - 2*Y[79] - 2*Y[78] + Y[77] <= -4\n",
      "8\tX[7465] - 4*X[3433] - X[7495] + 2*X[6114] - 4*Y[64] + 6*Y[79] - 3*Y[78] - 3*Y[77] <= 1\n",
      "8\t-X[7465] + 3*X[3433] + 2*X[7495] + X[6114] + 2*Y[64] - 2*Y[79] + Y[78] - 5*Y[77] <= 3\n",
      "8\t10*X[7465] + 7*X[3433] - 4*X[7495] - 12*X[6114] - 2*Y[64] + Y[79] + 6*Y[78] - 13*Y[77] <= 4\n",
      "8\t-6*X[7465] - X[3433] + 3*X[7495] + X[6114] + 2*Y[64] + 2*Y[79] + 2*Y[78] - Y[77] <= 4\n",
      "8\t-X[7465] - 2*X[3433] + 6*X[7495] - 10*X[6114] + 3*Y[64] + 4*Y[79] - 9*Y[78] + 11*Y[77] <= 8\n"
     ]
    }
   ],
   "source": [
    "idx = 64\n",
    "print(graph[idx])\n",
    "idxchild = 3593\n",
    "print(graph[idxchild])\n",
    "parenteqns = reduce(lambda x,y: x&y, (set(adjeqns[i]) for i in graph[idxchild].parents)) & set(adjeqns[idxchild])\n",
    "print(\"\\n\".join([str(len(y)) + \"\\t\" + x for x,y,z in parenteqns]))"
   ]
  },
  {
   "cell_type": "code",
   "execution_count": null,
   "id": "8bc72615",
   "metadata": {},
   "outputs": [],
   "source": []
  },
  {
   "cell_type": "code",
   "execution_count": 264,
   "id": "521bd7c1",
   "metadata": {},
   "outputs": [
    {
     "data": {
      "text/plain": [
       "(((-1, -1, 1, 0), (-1, 1, -1, 0), (1, -1, -1, 0), (1, 1, 1, 2)), (1,), (0, 2))"
      ]
     },
     "execution_count": 264,
     "metadata": {},
     "output_type": "execute_result"
    }
   ],
   "source": [
    "inv"
   ]
  },
  {
   "cell_type": "code",
   "execution_count": 265,
   "id": "18efe351",
   "metadata": {},
   "outputs": [
    {
     "name": "stdout",
     "output_type": "stream",
     "text": [
      "X[1186] + Y[149] + X[11] <= 2\n",
      "-X[1186] - Y[149] + X[11] <= 0\n",
      "-X[1186] + Y[149] - X[11] <= 0\n",
      "X[1186] - Y[149] - X[11] <= 0\n"
     ]
    },
    {
     "data": {
      "text/plain": [
       "False"
      ]
     },
     "execution_count": 265,
     "metadata": {},
     "output_type": "execute_result"
    }
   ],
   "source": [
    "print(\"\\n\".join(x for x,y,z in sharedeqns))\n",
    "check_concrete_binding(inv)"
   ]
  },
  {
   "cell_type": "code",
   "execution_count": 275,
   "id": "916249f3",
   "metadata": {},
   "outputs": [],
   "source": [
    "all_invariants = []\n",
    "\n",
    "root = rootidx.copy()\n",
    "\n",
    "nextlayer = reduce(lambda x,y: x|y, (set(graph[r].children) for r in root))\n",
    "for idxchild in [7455]:\n",
    "    \n",
    "    idxparents = graph[idxchild].parents\n",
    "    sharedeqns = reduce(lambda x,y: x&y, (set(adjeqns[i]) for i in idxparents)) & set(adjeqns[idxchild])\n",
    "    \n",
    "    inv = get_invariant(sharedeqns, idxparents)\n",
    "    if inv not in all_invariants: all_invariants.append(inv)\n",
    "        \n",
    "    # TODO: Check uniqueness\n",
    "    # TODO: Bind\n",
    "    \n",
    "    break\n",
    "    "
   ]
  },
  {
   "cell_type": "code",
   "execution_count": null,
   "id": "0fa7e0a9",
   "metadata": {},
   "outputs": [],
   "source": []
  },
  {
   "cell_type": "code",
   "execution_count": null,
   "id": "600104ec",
   "metadata": {},
   "outputs": [],
   "source": []
  },
  {
   "cell_type": "code",
   "execution_count": 60,
   "id": "be820346",
   "metadata": {},
   "outputs": [
    {
     "data": {
      "text/plain": [
       "set()"
      ]
     },
     "execution_count": 60,
     "metadata": {},
     "output_type": "execute_result"
    }
   ],
   "source": [
    "idx = 64\n",
    "reduce(lambda x,y: x&y, [set([x for x,y in adjeqns[i]]) for i in adjvars[idx]])"
   ]
  },
  {
   "cell_type": "code",
   "execution_count": 65,
   "id": "6b3ed149",
   "metadata": {},
   "outputs": [
    {
     "data": {
      "text/plain": [
       "Var(idx=1, parents=set(), children={1})"
      ]
     },
     "execution_count": 65,
     "metadata": {},
     "output_type": "execute_result"
    }
   ],
   "source": [
    "v = Var(1)\n",
    "v.children.add(1)\n",
    "v"
   ]
  },
  {
   "cell_type": "code",
   "execution_count": null,
   "id": "2dcf16d8",
   "metadata": {},
   "outputs": [],
   "source": []
  }
 ],
 "metadata": {
  "kernelspec": {
   "display_name": "Python 3",
   "language": "python",
   "name": "python3"
  },
  "language_info": {
   "codemirror_mode": {
    "name": "ipython",
    "version": 3
   },
   "file_extension": ".py",
   "mimetype": "text/x-python",
   "name": "python",
   "nbconvert_exporter": "python",
   "pygments_lexer": "ipython3",
   "version": "3.8.3"
  }
 },
 "nbformat": 4,
 "nbformat_minor": 5
}
