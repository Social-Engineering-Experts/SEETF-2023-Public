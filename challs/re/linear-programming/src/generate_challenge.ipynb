{
 "cells": [
  {
   "cell_type": "code",
   "execution_count": 1,
   "id": "98830648",
   "metadata": {},
   "outputs": [],
   "source": [
    "from itertools import product\n",
    "from inspect import signature\n",
    "    \n",
    "def hrep_to_ineq(hrep, args):\n",
    "    \"\"\"\n",
    "    Returns a list of inequality constraints given\n",
    "    `hrep` -> a H-representation and\n",
    "    `args` -> a list of MILP vars\n",
    "    \"\"\"\n",
    "    assert len(args) == len(hrep[0]) - 1, \\\n",
    "        \"Number of arguments does not match dimensionality of `hrep`\"\n",
    "    return [\n",
    "        sum(a*c for c,a in zip([*l][1:], args)) + l.b() >= 0 \n",
    "        for l in hrep\n",
    "    ]\n",
    "\n",
    "def get_boolexpr_hrep(boolfunc):\n",
    "    \"\"\"\n",
    "    Get H-Representation of points representing\n",
    "    (a0,a1,...,an, boolfunc(a0,a1,...,an))\n",
    "    \n",
    "    boolfunc is a boolean function of n-args with a boolean output\n",
    "    \"\"\"\n",
    "    nargs = len(signature(boolfunc).parameters)\n",
    "    space = []\n",
    "    for nb in product([0,1], repeat=nargs):\n",
    "        space.append((*nb, boolfunc(*nb)))\n",
    "        \n",
    "    p = Polyhedron(vertices=space)\n",
    "    hrep = p.Hrepresentation()\n",
    "    return simplify_binary_hrep(space, hrep)\n",
    "    \n",
    "def simplify_binary_hrep(space, hrep):\n",
    "    \n",
    "    \"\"\"\n",
    "    Computes a small subset of inequalities from `hrep`\n",
    "    which integral points in [0,1]^n is exactly `space`\n",
    "    \"\"\"\n",
    "\n",
    "    npts_space = len(space)\n",
    "    dim = len(space[0])\n",
    "    all_eq = [*hrep]\n",
    "    new_hrep = []\n",
    "    all_pts = set(product([0,1], repeat=dim)) - set(space)\n",
    "    eq_pts = [set(pts for pts in all_pts if not hrep_to_ineq([l], pts)[0]) for l in all_eq]\n",
    "    while len(all_eq) > 0:\n",
    "        npts = [len(i) for i in eq_pts]\n",
    "        midx = npts.index(max(npts))\n",
    "        if npts[midx] == 0: break\n",
    "        new_hrep.append(all_eq.pop(midx))\n",
    "        pts = eq_pts.pop(midx)\n",
    "        eq_pts = [i - pts for i in eq_pts]\n",
    "    return (*new_hrep,)\n",
    "    \n",
    "def gethrep_sbox(sbox):\n",
    "    # Big endian (inp, out)\n",
    "    nbits = len(sbox).bit_length() - 1\n",
    "    assert 1<<nbits == len(sbox)\n",
    "    space = [(*pt, *map(int, format(sbox[i], f\"0{nbits}b\")),) for i,pt in enumerate(product([0,1], repeat=nbits))]\n",
    "    p = Polyhedron(vertices=space)\n",
    "    hrep = p.Hrepresentation()\n",
    "    return simplify_binary_hrep(space, hrep)"
   ]
  },
  {
   "cell_type": "code",
   "execution_count": null,
   "id": "ee2f26c0",
   "metadata": {},
   "outputs": [],
   "source": []
  },
  {
   "cell_type": "code",
   "execution_count": 2,
   "id": "5562fce7",
   "metadata": {},
   "outputs": [
    {
     "data": {
      "text/plain": [
       "b'00000000'"
      ]
     },
     "execution_count": 2,
     "metadata": {},
     "output_type": "execute_result"
    }
   ],
   "source": [
    "# Concrete execution\n",
    "\n",
    "SBOX = [0xc, 0x5, 0x6, 0xb, 0x9, 0x0, 0xa, 0xd, 0x3, 0xe, 0xf, 0x8, 0x4, 0x7, 0x1, 0x2]\n",
    "PERM = [0, 16, 32, 48, 1, 17, 33, 49, 2, 18, 34, 50, 3, 19, 35, 51,\n",
    "        4, 20, 36, 52, 5, 21, 37, 53, 6, 22, 38, 54, 7, 23, 39, 55,\n",
    "        8, 24, 40, 56, 9, 25, 41, 57, 10, 26, 42, 58, 11, 27, 43, 59,\n",
    "        12, 28, 44, 60, 13, 29, 45, 61, 14, 30, 46, 62, 15, 31, 47, 63]\n",
    "DEPERM = [PERM.index(i) for i in range(64)]\n",
    "DESBOX = [SBOX.index(i) for i in range(16)]\n",
    "\n",
    "def sbox_bit(x):\n",
    "    # big endian\n",
    "    return [*map(int, format(SBOX[int(\"\".join(map(str, x)), 2)], \"04b\"))]\n",
    "\n",
    "def desbox_bit(x):\n",
    "    # big endian\n",
    "    return [*map(int, format(DESBOX[int(\"\".join(map(str, x)), 2)], \"04b\"))]\n",
    "\n",
    "def update_keyreg(k):\n",
    "    nk = [k[(i+61)%len(k)] for i in range(len(k))]\n",
    "    nk[:4] = sbox_bit(nk[:4])\n",
    "    return nk\n",
    "\n",
    "def keyscheduler(k, nrounds):\n",
    "    for _ in range(nrounds):\n",
    "        yield k[:64]\n",
    "        k = update_keyreg(k)\n",
    "        \n",
    "def add_present(pt, k):\n",
    "    return [x^^y for x,y in zip(pt,k)]\n",
    "        \n",
    "def sub_present(pt):\n",
    "    pt = pt.copy()\n",
    "    for i in range(64//4):\n",
    "        pt[i*4:i*4+4] = sbox_bit(pt[i*4:i*4+4])\n",
    "    return pt\n",
    "\n",
    "def desub_present(pt):\n",
    "    pt = pt.copy()\n",
    "    for i in range(64//4):\n",
    "        pt[i*4:i*4+4] = desbox_bit(pt[i*4:i*4+4])\n",
    "    return pt\n",
    "\n",
    "def perm_present(pt):\n",
    "    return [pt[PERM[i]] for i in range(64)]\n",
    "\n",
    "def deperm_present(pt):\n",
    "    return [pt[DEPERM[i]] for i in range(64)]\n",
    "        \n",
    "def present(pt, k, nrounds):\n",
    "    ct = pt\n",
    "    for k in keyscheduler(k, nrounds):\n",
    "        ct = add_present(ct, k)\n",
    "        ct = sub_present(ct)\n",
    "        ct = perm_present(ct)\n",
    "    return ct\n",
    "\n",
    "def depresent(ct, k, nrounds):\n",
    "    pt = ct\n",
    "    for k in [*keyscheduler(k, nrounds)][::-1]:\n",
    "        pt = deperm_present(pt)\n",
    "        pt = desub_present(pt)\n",
    "        pt = add_present(pt, k)\n",
    "    return pt\n",
    "\n",
    "def bytes_to_bits(pt):\n",
    "    return [*map(int, \"\".join(format(c, \"08b\") for c in pt))]\n",
    "\n",
    "def bits_to_bytes(pt):\n",
    "    return bytes([int(\"\".join(map(str, pt[8*i:8*i+8])), 2) for i in range(len(pt)//8)])\n",
    "\n",
    "import os\n",
    "key = bytes_to_bits(os.urandom(10))\n",
    "ct = present(bytes_to_bits(b\"0\"*16), key, 30)\n",
    "bits_to_bytes(depresent(ct, key, 30))"
   ]
  },
  {
   "cell_type": "code",
   "execution_count": 3,
   "id": "0b357099",
   "metadata": {},
   "outputs": [],
   "source": [
    "# MILP execution\n",
    "\n",
    "SBOX = [0xc, 0x5, 0x6, 0xb, 0x9, 0x0, 0xa, 0xd, 0x3, 0xe, 0xf, 0x8, 0x4, 0x7, 0x1, 0x2]\n",
    "PERM = [0, 16, 32, 48, 1, 17, 33, 49, 2, 18, 34, 50, 3, 19, 35, 51,\n",
    "        4, 20, 36, 52, 5, 21, 37, 53, 6, 22, 38, 54, 7, 23, 39, 55,\n",
    "        8, 24, 40, 56, 9, 25, 41, 57, 10, 26, 42, 58, 11, 27, 43, 59,\n",
    "        12, 28, 44, 60, 13, 29, 45, 61, 14, 30, 46, 62, 15, 31, 47, 63]\n",
    "\n",
    "SBOX_HREP = gethrep_sbox(SBOX)\n",
    "XOR_HREP = get_boolexpr_hrep(lambda x,y: x^^y)\n",
    "\n",
    "def update_keyreg_milp(solver, vargen, k):\n",
    "    nk = [k[(i+61)%len(k)] for i in range(len(k))]\n",
    "    outbit = [vargen.gen() for _ in range(4)]\n",
    "    inbit = nk[:4]\n",
    "    ineqs = hrep_to_ineq(SBOX_HREP, [*inbit, *outbit])\n",
    "    for i in ineqs:\n",
    "        solver.add_constraint(i)\n",
    "    nk[:4] = outbit\n",
    "    return nk\n",
    "\n",
    "def keyscheduler_milp(solver, vargen, k, nrounds):\n",
    "    for _ in range(nrounds):\n",
    "        yield k[:64]\n",
    "        k = update_keyreg_milp(solver, vargen, k)\n",
    "        \n",
    "def add_present_milp(solver, vargen, pt, k):\n",
    "    out = [vargen.gen() for _ in range(64)]\n",
    "    for x,y,z in zip(pt, k, out):\n",
    "        ineqs = hrep_to_ineq(XOR_HREP, [x,y,z])\n",
    "        for i in ineqs:\n",
    "            solver.add_constraint(i)\n",
    "    return out\n",
    "        \n",
    "def sub_present_milp(solver, vargen, pt):\n",
    "    out = [vargen.gen() for _ in range(64)]\n",
    "    for i in range(64//4):\n",
    "        outbit = out[i*4:i*4+4]\n",
    "        inbit = pt[i*4:i*4+4]\n",
    "        ineqs = hrep_to_ineq(SBOX_HREP, [*inbit, *outbit])\n",
    "        for i in ineqs:\n",
    "            solver.add_constraint(i)\n",
    "    return out\n",
    "\n",
    "def perm_present_milp(pt):\n",
    "    return [pt[PERM[i]] for i in range(64)]\n",
    "        \n",
    "def present_milp(solver, vargen, pt, k, nrounds):\n",
    "    ct = pt\n",
    "    for k0 in keyscheduler_milp(solver, vargen, k, nrounds):\n",
    "        ct = add_present_milp(solver, vargen, ct, k0)\n",
    "        ct = sub_present_milp(solver, vargen, ct)\n",
    "        ct = perm_present_milp(ct)\n",
    "    return ct\n",
    "\n",
    "def bind_milp(solver, milpvars, concretevars):\n",
    "    assert len(milpvars) == len(concretevars)\n",
    "    for x,y in zip(milpvars, concretevars):\n",
    "        solver.add_constraint(x == y)"
   ]
  },
  {
   "cell_type": "code",
   "execution_count": 4,
   "id": "52d7f5fa",
   "metadata": {},
   "outputs": [
    {
     "data": {
      "text/plain": [
       "(An inequality (13, -6, -1, 2, 12, 4, -7, -10) x + 4 >= 0,\n",
       " An inequality (-13, 1, 6, -2, -7, -4, 12, -10) x + 16 >= 0,\n",
       " An inequality (1, -2, -2, -2, -1, -3, 1, 6) x + 4 >= 0,\n",
       " An inequality (-1, 2, 2, 2, 1, 3, -1, 6) x - 4 >= 0,\n",
       " An inequality (8, -2, 4, 1, -5, -7, -9, -3) x + 12 >= 0,\n",
       " An inequality (3, 3, -6, 4, -2, 1, 4, -1) x + 1 >= 0,\n",
       " An inequality (-11, 9, -4, -3, 10, -6, 2, 1) x + 8 >= 0,\n",
       " An inequality (-2, -2, 0, -1, -3, 1, -1, -1) x + 6 >= 0,\n",
       " An inequality (5, -1, 2, -2, -1, -2, -3, 1) x + 3 >= 0)"
      ]
     },
     "execution_count": 4,
     "metadata": {},
     "output_type": "execute_result"
    }
   ],
   "source": [
    "SBOX_HREP"
   ]
  },
  {
   "cell_type": "code",
   "execution_count": 11,
   "id": "3dfb41d5",
   "metadata": {},
   "outputs": [],
   "source": [
    "class VarGen:\n",
    "    \n",
    "    \"\"\"\n",
    "    Wrapper class over `solver.new_variable`\n",
    "    to provide the `gen` method\n",
    "    \"\"\"\n",
    "    \n",
    "    def __init__(self, solver:MixedIntegerLinearProgram):\n",
    "        self.vargen = solver.new_variable(binary=True)\n",
    "        \n",
    "    def __getitem__(self, idx):\n",
    "        \"\"\"Get an existing variable at index `idx`\"\"\"\n",
    "        assert idx < len(self.vargen.keys())\n",
    "        return self.vargen[idx]\n",
    "    \n",
    "    def gen(self):\n",
    "        \"\"\"Generates a new variable\"\"\"\n",
    "        return self.vargen[len(self.vargen.keys())]\n",
    "    \n",
    "class FakeSolver:\n",
    "    \n",
    "    def __init__(self):\n",
    "        self.constraints = []\n",
    "    \n",
    "    def add_constraint(self, e):\n",
    "        self.constraints.append(e)"
   ]
  },
  {
   "cell_type": "code",
   "execution_count": null,
   "id": "bbca179a",
   "metadata": {},
   "outputs": [],
   "source": []
  },
  {
   "cell_type": "code",
   "execution_count": 11,
   "id": "ce3c95a3",
   "metadata": {},
   "outputs": [
    {
     "data": {
      "text/plain": [
       "b'5.\\xafG\\xaa\\x10\\xd2k\\xf0\\xbb\\xbc\\xe8\\xb7e\\x0e\\x0c'"
      ]
     },
     "execution_count": 11,
     "metadata": {},
     "output_type": "execute_result"
    }
   ],
   "source": [
    "nrounds = 30\n",
    "\n",
    "flag = b\"sT1lL_Us!nG_pR3&ENt?\"\n",
    "assert len(flag) == 20\n",
    "pt1_concrete = bytes_to_bits(flag[:8])\n",
    "k1_concrete = bytes_to_bits(flag[8:10]*5)\n",
    "pt2_concrete = bytes_to_bits(flag[10:18])\n",
    "k2_concrete = bytes_to_bits(flag[18:]*5)\n",
    "ct_concrete = \\\n",
    "    present(pt1_concrete, k1_concrete, nrounds) \\\n",
    "    + present(pt2_concrete, k2_concrete, nrounds)\n",
    "\n",
    "bits_to_bytes(ct_concrete)"
   ]
  },
  {
   "cell_type": "code",
   "execution_count": 34,
   "id": "1bd03242",
   "metadata": {},
   "outputs": [],
   "source": [
    "solver = MixedIntegerLinearProgram(maximization=True, solver=\"GLPK\")\n",
    "vargen = VarGen(solver)\n",
    "\n",
    "#solver = FakeSolver()\n",
    "\n",
    "ptmilp1 = [vargen.gen() for _ in range(64)]\n",
    "kvars1 = [vargen.gen() for _ in range(16)]\n",
    "kmilp1 = kvars1*5\n",
    "\n",
    "ptmilp2 = [vargen.gen() for _ in range(64)]\n",
    "kvars2 = [vargen.gen() for _ in range(16)]\n",
    "kmilp2 = kvars2*5\n",
    "\n",
    "ctmilp1 = present_milp(solver, vargen, ptmilp1, kmilp1, nrounds)\n",
    "ctmilp2 = present_milp(solver, vargen, ptmilp2, kmilp2, nrounds)\n",
    "\n",
    "bind_milp(solver, ctmilp1, ct_concrete[:64])\n",
    "bind_milp(solver, ctmilp2, ct_concrete[64:])"
   ]
  },
  {
   "cell_type": "code",
   "execution_count": 35,
   "id": "95709733",
   "metadata": {},
   "outputs": [],
   "source": [
    "# Test overal model\n",
    "\n",
    "#bind_milp(solver, ptmilp1+kvars1+ptmilp2+kvars2, bytes_to_bits(flag[:-1] + b\"?\"))\n",
    "#solver.solve()\n",
    "#bits_to_bytes([*map(int, solver.get_values(ptmilp1+kvars1+ptmilp2+kvars2))])"
   ]
  },
  {
   "cell_type": "code",
   "execution_count": null,
   "id": "372795ee",
   "metadata": {},
   "outputs": [],
   "source": []
  },
  {
   "cell_type": "code",
   "execution_count": 36,
   "id": "87d57e6b",
   "metadata": {},
   "outputs": [],
   "source": [
    "const = solver.constraints()\n",
    "bindings = [c for c in const if c[0] == c[2]]\n",
    "const = [c for c in const if c[0] != c[2]]"
   ]
  },
  {
   "cell_type": "code",
   "execution_count": 37,
   "id": "2c3eea0e",
   "metadata": {},
   "outputs": [],
   "source": [
    "# No more concrete variables\n",
    "\n",
    "for bval, (bidx, _), _ in bindings:\n",
    "    bidx = bidx[0]\n",
    "    \n",
    "    for i,c in enumerate(const):\n",
    "        \n",
    "        if bidx not in c[1][0]: continue\n",
    "\n",
    "        nc = (c[1][0].copy(), c[1][1].copy())\n",
    "        cbidx = nc[0].index(bidx)\n",
    "        cbval = nc[1][cbidx]\n",
    "        nc[0].pop(cbidx)\n",
    "        nc[1].pop(cbidx)\n",
    "        v = cbval * bval\n",
    "        const[i] = (\n",
    "            c[0] - v if c[0] is not None else c[0], \n",
    "            nc, \n",
    "            c[2] - v if c[2] is not None else c[2]\n",
    "        )"
   ]
  },
  {
   "cell_type": "code",
   "execution_count": null,
   "id": "ef095fc4",
   "metadata": {},
   "outputs": [],
   "source": []
  },
  {
   "cell_type": "code",
   "execution_count": 38,
   "id": "d6793f9b",
   "metadata": {},
   "outputs": [],
   "source": [
    "# Rename input\n",
    "\n",
    "allin = ptmilp1 + kvars1 + ptmilp2 + kvars2\n",
    "allidx = [int(str(i)[2:]) for i in allin]\n",
    "inmap = {int(str(i)[2:]): f\"Y[{j}]\" for j,i in enumerate(allin)}\n",
    "\n",
    "for c in const:\n",
    "    o = c[1][0]\n",
    "    for i,n in enumerate(o):\n",
    "        if n in inmap: o[i] = inmap[n]"
   ]
  },
  {
   "cell_type": "code",
   "execution_count": 39,
   "id": "7b9a5fb6",
   "metadata": {},
   "outputs": [],
   "source": [
    "# renumber everything else\n",
    "\n",
    "# import requests\n",
    "# import re\n",
    "# wordlist = requests.get(\"https://raw.githubusercontent.com/first20hours/google-10000-english/master/google-10000-english-no-swears.txt\").content.decode().strip().split(\"\\n\")\n",
    "# assert all(re.match(r\"[a-z]+\", w) for w in wordlist)\n",
    "# wordlist = [w for w in wordlist if len(w) > 3]\n",
    "\n",
    "import random\n",
    "random.seed(1)\n",
    "\n",
    "restidx = set()\n",
    "for c in const:\n",
    "    restidx |= set(i for i in c[1][0] if isinstance(i, int))\n",
    "restidx = sorted([*restidx])\n",
    "newidx = [*range(len(restidx))]\n",
    "random.shuffle(newidx)\n",
    "\n",
    "restmap = {oidx:f\"X[{nidx}]\" for nidx,oidx in zip(newidx, restidx)}\n",
    "for c in const:\n",
    "    o = c[1][0]\n",
    "    for i,n in enumerate(o):\n",
    "        if n in restmap: o[i] = restmap[n]"
   ]
  },
  {
   "cell_type": "code",
   "execution_count": 40,
   "id": "bf2fe74c",
   "metadata": {},
   "outputs": [],
   "source": [
    "def const2str(con):\n",
    "    r = \"\"\n",
    "    # x: str name\n",
    "    # y: coeff\n",
    "    for i,(x,y) in enumerate(zip(*con[1])):\n",
    "        y = int(y)\n",
    "        if i == 0:\n",
    "            if y < 0: r += \"-\"\n",
    "            r += f\"{str(abs(y)) + '*' if abs(y) != 1 else ''}{x}\"\n",
    "            continue\n",
    "        r += f\" {'+-'[y < 0]} {str(abs(y)) + '*' if abs(y) != 1 else ''}{x}\"\n",
    "    if con[0] is not None: r = f\"{int(con[0])} <= \" + r\n",
    "    if con[2] is not None: r = r + f\" <= {int(con[2])}\"\n",
    "    return r\n",
    "\n",
    "# Shuffle things\n",
    "\n",
    "# get the input stuff\n",
    "#sin = set(inmap.values())\n",
    "#inidx = [j for j,c in enumerate(const) if any(i in sin for i in c[1][0])]\n",
    "#resti = list(set(range(len(const))) - set(inidx))\n",
    "#\n",
    "#inconst = [const[i] for i in inidx]\n",
    "#inconst = sorted(inconst, key=lambda c: len(const2str(c)))\n",
    "#restconst = [const[i] for i in resti]\n",
    "#restconst = sorted(restconst, key=lambda c: len(const2str(c)))\n",
    "#\n",
    "#const = inconst + restconst\n",
    "\n",
    "const = sorted(const, key=lambda c: len(const2str(c)))"
   ]
  },
  {
   "cell_type": "code",
   "execution_count": 41,
   "id": "5e73bdc1",
   "metadata": {},
   "outputs": [
    {
     "data": {
      "text/plain": [
       "1569133"
      ]
     },
     "execution_count": 41,
     "metadata": {},
     "output_type": "execute_result"
    }
   ],
   "source": [
    "repmap = {\n",
    "    \"~~LEN~~\": str(len(newidx)),\n",
    "    \"~~INITMODEL~~\": str('\\n'.join('model += ' + i for i in map(const2str, const)))\n",
    "}\n",
    "\n",
    "challenge = open(\"template.txt\").read()\n",
    "for k,v in repmap.items():\n",
    "    challenge = challenge.replace(k, v)\n",
    "open(\"challenge.py\", \"w\").write(challenge)"
   ]
  },
  {
   "cell_type": "code",
   "execution_count": null,
   "id": "59f72973",
   "metadata": {},
   "outputs": [],
   "source": []
  },
  {
   "cell_type": "markdown",
   "id": "22d222d0",
   "metadata": {},
   "source": [
    "# Testing stuff"
   ]
  },
  {
   "cell_type": "code",
   "execution_count": 117,
   "id": "5fb89950",
   "metadata": {},
   "outputs": [
    {
     "data": {
      "text/plain": [
       "1619915"
      ]
     },
     "execution_count": 117,
     "metadata": {},
     "output_type": "execute_result"
    }
   ],
   "source": [
    "repmap = {\n",
    "    \"~~LEN~~\": str(len(newidx)),\n",
    "    \"~~INITMODEL~~\": str('\\n'.join('model += ' + i for i in map(const2str, const)))\n",
    "}\n",
    "\n",
    "challenge = open(\"template2.txt\").read()\n",
    "for k,v in repmap.items():\n",
    "    challenge = challenge.replace(k, v)\n",
    "open(\"test.py\", \"w\").write(challenge)"
   ]
  },
  {
   "cell_type": "code",
   "execution_count": null,
   "id": "6d6039cd",
   "metadata": {},
   "outputs": [],
   "source": []
  },
  {
   "cell_type": "code",
   "execution_count": 32,
   "id": "f6e533eb",
   "metadata": {},
   "outputs": [
    {
     "name": "stdout",
     "output_type": "stream",
     "text": [
      "SEE{5i87,P3&NvG_pR3&ENt?}\n",
      "SEE{sT1lL_Us!nG_pR3&ENt?}\n"
     ]
    }
   ],
   "source": [
    "from itertools import product\n",
    "\n",
    "ALLOWED_CHARS = b\"0123456789abcdefghijklmnopqrstuvwxyzABCDEFGHIJKLMNOPQRSTUVWXYZ!?#$%&-_\"\n",
    "\n",
    "flag1 = []\n",
    "for k in product(ALLOWED_CHARS, repeat=2):\n",
    "    k = bytes(k)*5\n",
    "    pt = bits_to_bytes(depresent(ct_concrete[:64], bytes_to_bits(k), 30))\n",
    "    if all(c in ALLOWED_CHARS for c in pt):\n",
    "        flag1.append(pt + k[:2])\n",
    "        \n",
    "flag2 = []\n",
    "for k in product(ALLOWED_CHARS, repeat=2):\n",
    "    k = bytes(k)*5\n",
    "    pt = bits_to_bytes(depresent(ct_concrete[64:], bytes_to_bits(k), 30))\n",
    "    if all(c in ALLOWED_CHARS for c in pt):\n",
    "        flag2.append(pt + k[:2])\n",
    "        \n",
    "for x in flag1:\n",
    "    for y in flag2:\n",
    "        flag = b\"SEE{\" + x+y + b\"}\"\n",
    "        print(flag.decode())"
   ]
  },
  {
   "cell_type": "code",
   "execution_count": null,
   "id": "4173ab23",
   "metadata": {},
   "outputs": [],
   "source": []
  },
  {
   "cell_type": "code",
   "execution_count": null,
   "id": "4e93ac47",
   "metadata": {},
   "outputs": [],
   "source": []
  },
  {
   "cell_type": "code",
   "execution_count": null,
   "id": "221f21c6",
   "metadata": {},
   "outputs": [],
   "source": []
  },
  {
   "cell_type": "code",
   "execution_count": null,
   "id": "4b54d846",
   "metadata": {},
   "outputs": [],
   "source": []
  },
  {
   "cell_type": "code",
   "execution_count": 101,
   "id": "c7016378",
   "metadata": {},
   "outputs": [
    {
     "data": {
      "text/plain": [
       "[0 <= x_0 + x_64 - x_160,\n",
       " 0 <= x_0 - x_64 + x_160,\n",
       " 0 <= -1*x_0 + x_64 + x_160,\n",
       " 0 <= 2 - x_0 - x_64 - x_160,\n",
       " 0 <= x_1 + x_65 - x_161,\n",
       " 0 <= x_1 - x_65 + x_161,\n",
       " 0 <= -1*x_1 + x_65 + x_161,\n",
       " 0 <= 2 - x_1 - x_65 - x_161,\n",
       " 0 <= x_2 + x_66 - x_162,\n",
       " 0 <= x_2 - x_66 + x_162]"
      ]
     },
     "execution_count": 101,
     "metadata": {},
     "output_type": "execute_result"
    }
   ],
   "source": [
    "fs.constraints[:10]"
   ]
  },
  {
   "cell_type": "code",
   "execution_count": 96,
   "id": "b665b2a8",
   "metadata": {},
   "outputs": [
    {
     "data": {
      "text/plain": [
       "(None, ([160, 64, 0], [1.0, -1.0, -1.0]), 0.0)"
      ]
     },
     "execution_count": 96,
     "metadata": {},
     "output_type": "execute_result"
    }
   ],
   "source": [
    "const[0]"
   ]
  },
  {
   "cell_type": "code",
   "execution_count": null,
   "id": "93d13f75",
   "metadata": {},
   "outputs": [],
   "source": []
  },
  {
   "cell_type": "code",
   "execution_count": null,
   "id": "f4518f66",
   "metadata": {},
   "outputs": [],
   "source": []
  },
  {
   "cell_type": "code",
   "execution_count": 119,
   "id": "c48e79aa",
   "metadata": {},
   "outputs": [
    {
     "data": {
      "text/plain": [
       "1299068"
      ]
     },
     "execution_count": 119,
     "metadata": {},
     "output_type": "execute_result"
    }
   ],
   "source": [
    "constr = \"\\n\".join(map(str, fs.constraints))\n",
    "open(\"constraints.txt\", \"w\").write(constr)"
   ]
  },
  {
   "cell_type": "code",
   "execution_count": 64,
   "id": "56168c89",
   "metadata": {},
   "outputs": [
    {
     "data": {
      "text/plain": [
       "b'2o50_&_uSinG_P3SeN4?'"
      ]
     },
     "execution_count": 64,
     "metadata": {},
     "output_type": "execute_result"
    }
   ],
   "source": [
    "flag"
   ]
  },
  {
   "cell_type": "code",
   "execution_count": 65,
   "id": "04914f81",
   "metadata": {},
   "outputs": [
    {
     "ename": "MIPSolverException",
     "evalue": "GLPK: Problem has no feasible solution",
     "output_type": "error",
     "traceback": [
      "\u001b[0;31m---------------------------------------------------------------------------\u001b[0m",
      "\u001b[0;31mMIPSolverException\u001b[0m                        Traceback (most recent call last)",
      "\u001b[0;32m/tmp/ipykernel_1553/2214670130.py\u001b[0m in \u001b[0;36m<module>\u001b[0;34m\u001b[0m\n\u001b[1;32m      2\u001b[0m \u001b[0;34m\u001b[0m\u001b[0m\n\u001b[1;32m      3\u001b[0m \u001b[0mbind_milp\u001b[0m\u001b[0;34m(\u001b[0m\u001b[0msolver\u001b[0m\u001b[0;34m,\u001b[0m \u001b[0mptmilp1\u001b[0m\u001b[0;34m+\u001b[0m\u001b[0mkvars1\u001b[0m\u001b[0;34m+\u001b[0m\u001b[0mptmilp2\u001b[0m\u001b[0;34m+\u001b[0m\u001b[0mkvars2\u001b[0m\u001b[0;34m,\u001b[0m \u001b[0mbytes_to_bits\u001b[0m\u001b[0;34m(\u001b[0m\u001b[0mflag\u001b[0m\u001b[0;34m)\u001b[0m\u001b[0;34m)\u001b[0m\u001b[0;34m\u001b[0m\u001b[0;34m\u001b[0m\u001b[0m\n\u001b[0;32m----> 4\u001b[0;31m \u001b[0msolver\u001b[0m\u001b[0;34m.\u001b[0m\u001b[0msolve\u001b[0m\u001b[0;34m(\u001b[0m\u001b[0;34m)\u001b[0m\u001b[0;34m\u001b[0m\u001b[0;34m\u001b[0m\u001b[0m\n\u001b[0m\u001b[1;32m      5\u001b[0m \u001b[0mbits_to_bytes\u001b[0m\u001b[0;34m(\u001b[0m\u001b[0;34m[\u001b[0m\u001b[0;34m*\u001b[0m\u001b[0mmap\u001b[0m\u001b[0;34m(\u001b[0m\u001b[0mint\u001b[0m\u001b[0;34m,\u001b[0m \u001b[0msolver\u001b[0m\u001b[0;34m.\u001b[0m\u001b[0mget_values\u001b[0m\u001b[0;34m(\u001b[0m\u001b[0mptmilp1\u001b[0m\u001b[0;34m+\u001b[0m\u001b[0mkvars1\u001b[0m\u001b[0;34m+\u001b[0m\u001b[0mptmilp2\u001b[0m\u001b[0;34m+\u001b[0m\u001b[0mkvars2\u001b[0m\u001b[0;34m)\u001b[0m\u001b[0;34m)\u001b[0m\u001b[0;34m]\u001b[0m\u001b[0;34m)\u001b[0m\u001b[0;34m\u001b[0m\u001b[0;34m\u001b[0m\u001b[0m\n",
      "\u001b[0;32m/Tools/sage/local/var/lib/sage/venv-python3.8/lib/python3.8/site-packages/sage/numerical/mip.pyx\u001b[0m in \u001b[0;36msage.numerical.mip.MixedIntegerLinearProgram.solve (build/cythonized/sage/numerical/mip.c:17295)\u001b[0;34m()\u001b[0m\n\u001b[1;32m   2553\u001b[0m         \"\"\"\n\u001b[1;32m   2554\u001b[0m         \u001b[0;32mif\u001b[0m \u001b[0mlog\u001b[0m \u001b[0;32mis\u001b[0m \u001b[0;32mnot\u001b[0m \u001b[0;32mNone\u001b[0m\u001b[0;34m:\u001b[0m \u001b[0mself\u001b[0m\u001b[0;34m.\u001b[0m\u001b[0m_backend\u001b[0m\u001b[0;34m.\u001b[0m\u001b[0mset_verbosity\u001b[0m\u001b[0;34m(\u001b[0m\u001b[0mlog\u001b[0m\u001b[0;34m)\u001b[0m\u001b[0;34m\u001b[0m\u001b[0;34m\u001b[0m\u001b[0m\n\u001b[0;32m-> 2555\u001b[0;31m         \u001b[0mself\u001b[0m\u001b[0;34m.\u001b[0m\u001b[0m_backend\u001b[0m\u001b[0;34m.\u001b[0m\u001b[0msolve\u001b[0m\u001b[0;34m(\u001b[0m\u001b[0;34m)\u001b[0m\u001b[0;34m\u001b[0m\u001b[0;34m\u001b[0m\u001b[0m\n\u001b[0m\u001b[1;32m   2556\u001b[0m         \u001b[0;32mreturn\u001b[0m \u001b[0mself\u001b[0m\u001b[0;34m.\u001b[0m\u001b[0m_backend\u001b[0m\u001b[0;34m.\u001b[0m\u001b[0mget_objective_value\u001b[0m\u001b[0;34m(\u001b[0m\u001b[0;34m)\u001b[0m\u001b[0;34m\u001b[0m\u001b[0;34m\u001b[0m\u001b[0m\n\u001b[1;32m   2557\u001b[0m \u001b[0;34m\u001b[0m\u001b[0m\n",
      "\u001b[0;32m/Tools/sage/local/var/lib/sage/venv-python3.8/lib/python3.8/site-packages/sage/numerical/backends/glpk_backend.pyx\u001b[0m in \u001b[0;36msage.numerical.backends.glpk_backend.GLPKBackend.solve (build/cythonized/sage/numerical/backends/glpk_backend.c:10306)\u001b[0;34m()\u001b[0m\n\u001b[1;32m   1143\u001b[0m             \u001b[0;32mraise\u001b[0m \u001b[0mMIPSolverException\u001b[0m\u001b[0;34m(\u001b[0m\u001b[0;34m\"GLPK: \"\u001b[0m\u001b[0;34m+\u001b[0m\u001b[0msolve_status_msg\u001b[0m\u001b[0;34m.\u001b[0m\u001b[0mget\u001b[0m\u001b[0;34m(\u001b[0m\u001b[0msolve_status\u001b[0m\u001b[0;34m,\u001b[0m \u001b[0;34m\"unknown error during call to GLPK : \"\u001b[0m\u001b[0;34m+\u001b[0m\u001b[0mstr\u001b[0m\u001b[0;34m(\u001b[0m\u001b[0msolve_status\u001b[0m\u001b[0;34m)\u001b[0m\u001b[0;34m)\u001b[0m\u001b[0;34m)\u001b[0m\u001b[0;34m\u001b[0m\u001b[0;34m\u001b[0m\u001b[0m\n\u001b[1;32m   1144\u001b[0m         \u001b[0;32melse\u001b[0m\u001b[0;34m:\u001b[0m\u001b[0;34m\u001b[0m\u001b[0;34m\u001b[0m\u001b[0m\n\u001b[0;32m-> 1145\u001b[0;31m             \u001b[0;32mraise\u001b[0m \u001b[0mMIPSolverException\u001b[0m\u001b[0;34m(\u001b[0m\u001b[0;34m\"GLPK: \"\u001b[0m\u001b[0;34m+\u001b[0m\u001b[0msolution_status_msg\u001b[0m\u001b[0;34m.\u001b[0m\u001b[0mget\u001b[0m\u001b[0;34m(\u001b[0m\u001b[0msolution_status\u001b[0m\u001b[0;34m,\u001b[0m \u001b[0;34m\"unknown error during call to GLPK : \"\u001b[0m\u001b[0;34m+\u001b[0m\u001b[0mstr\u001b[0m\u001b[0;34m(\u001b[0m\u001b[0msolution_status\u001b[0m\u001b[0;34m)\u001b[0m\u001b[0;34m)\u001b[0m\u001b[0;34m)\u001b[0m\u001b[0;34m\u001b[0m\u001b[0;34m\u001b[0m\u001b[0m\n\u001b[0m\u001b[1;32m   1146\u001b[0m         \u001b[0;32mreturn\u001b[0m \u001b[0;36m0\u001b[0m\u001b[0;34m\u001b[0m\u001b[0;34m\u001b[0m\u001b[0m\n\u001b[1;32m   1147\u001b[0m \u001b[0;34m\u001b[0m\u001b[0m\n",
      "\u001b[0;31mMIPSolverException\u001b[0m: GLPK: Problem has no feasible solution"
     ]
    }
   ],
   "source": [
    "# Test overal model\n",
    "\n",
    "bind_milp(solver, ptmilp1+kvars1+ptmilp2+kvars2, bytes_to_bits(flag))\n",
    "solver.solve()\n",
    "bits_to_bytes([*map(int, solver.get_values(ptmilp1+kvars1+ptmilp2+kvars2))])"
   ]
  },
  {
   "cell_type": "code",
   "execution_count": 99,
   "id": "fc6a9acd",
   "metadata": {},
   "outputs": [],
   "source": [
    "# test sbox\n",
    "\n",
    "sbox_hrep = gethrep_sbox(SBOX)\n",
    "\n",
    "solver = MixedIntegerLinearProgram(maximization=True, solver=\"GLPK\")\n",
    "vargen = VarGen(solver)\n",
    "\n",
    "for x in range(0x10):\n",
    "    inp = [*map(int, format(x, \"04b\"))]\n",
    "    out = [vargen.gen() for _ in range(4)]\n",
    "    ineqs = hrep_to_ineq(sbox_hrep, [*inp, *out])\n",
    "    for i in ineqs:\n",
    "        solver.add_constraint(i)\n",
    "\n",
    "    solver.solve()\n",
    "    y = int(\"\".join([str(int(i)) for i in solver.get_values(out)]), 2)\n",
    "    assert SBOX[x] == y"
   ]
  },
  {
   "cell_type": "code",
   "execution_count": 100,
   "id": "e8ef743a",
   "metadata": {},
   "outputs": [
    {
     "data": {
      "text/plain": [
       "[0 <= 12 + 12*x_60 + 4*x_61 - 7*x_62 - 10*x_63,\n",
       " 0 <= 8 - 7*x_60 - 4*x_61 + 12*x_62 - 10*x_63,\n",
       " 0 <= -1 - x_60 - 3*x_61 + x_62 + 6*x_63,\n",
       " 0 <= 1 + x_60 + 3*x_61 - x_62 + 6*x_63,\n",
       " 0 <= 23 - 5*x_60 - 7*x_61 - 9*x_62 - 3*x_63,\n",
       " 0 <= 5 - 2*x_60 + x_61 + 4*x_62 - x_63,\n",
       " 0 <= -1 + 10*x_60 - 6*x_61 + 2*x_62 + x_63,\n",
       " 0 <= 1 - 3*x_60 + x_61 - x_62 - x_63,\n",
       " 0 <= 7 - x_60 - 2*x_61 - 3*x_62 + x_63]"
      ]
     },
     "execution_count": 100,
     "metadata": {},
     "output_type": "execute_result"
    }
   ],
   "source": [
    "ineqs"
   ]
  },
  {
   "cell_type": "code",
   "execution_count": null,
   "id": "7b3ee76d",
   "metadata": {},
   "outputs": [],
   "source": []
  },
  {
   "cell_type": "code",
   "execution_count": null,
   "id": "849794eb",
   "metadata": {},
   "outputs": [],
   "source": []
  },
  {
   "cell_type": "code",
   "execution_count": null,
   "id": "cd112f10",
   "metadata": {},
   "outputs": [],
   "source": []
  }
 ],
 "metadata": {
  "kernelspec": {
   "display_name": "SageMath 9.6",
   "language": "sage",
   "name": "sagemath"
  },
  "language_info": {
   "codemirror_mode": {
    "name": "ipython",
    "version": 3
   },
   "file_extension": ".py",
   "mimetype": "text/x-python",
   "name": "python",
   "nbconvert_exporter": "python",
   "pygments_lexer": "ipython3",
   "version": "3.8.10"
  }
 },
 "nbformat": 4,
 "nbformat_minor": 5
}
